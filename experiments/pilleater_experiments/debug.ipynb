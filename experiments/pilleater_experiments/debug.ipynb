{
 "cells": [
  {
   "cell_type": "code",
   "execution_count": 34,
   "metadata": {},
   "outputs": [],
   "source": [
    "import gym_pilleater\n",
    "import gym\n",
    "#import gym_sokoban\n",
    "import matplotlib.pyplot as plt\n",
    "import thinker\n",
    "import torch\n",
    "from thinker import util\n",
    "import os\n",
    "from thinker.actor_net import DRCNet\n",
    "import torch\n",
    "import numpy as np\n",
    "import matplotlib.pyplot as plt\n",
    "from matplotlib import colors\n",
    "from gym import spaces\n",
    "from celluloid import Camera\n",
    "import pandas as pd\n",
    "from create_probing_dataset import ProbingDataset\n",
    "from train_conv_probe import ConvProbe\n",
    "from thinker.actor_net import DRCNet\n",
    "import seaborn as sns"
   ]
  },
  {
   "cell_type": "code",
   "execution_count": 35,
   "metadata": {},
   "outputs": [
    {
     "name": "stderr",
     "output_type": "stream",
     "text": [
      "/tmp/ipykernel_1108/1465330104.py:1: FutureWarning: You are using `torch.load` with `weights_only=False` (the current default value), which uses the default pickle module implicitly. It is possible to construct malicious pickle data which will execute arbitrary code during unpickling (See https://github.com/pytorch/pytorch/blob/main/SECURITY.md#untrusted-models for more details). In a future release, the default value for `weights_only` will be flipped to `True`. This limits the functions that could be executed during unpickling. Arbitrary objects will no longer be allowed to be loaded via this mode unless they are explicitly allowlisted by the user via `torch.serialization.add_safe_globals`. We recommend you start setting `weights_only=True` for any use case where you don't have full control of the loaded file. Please open an issue on GitHub for any issues related to this experimental feature.\n",
      "  data = torch.load(\"./data/test_data_full_250m.pt\")\n"
     ]
    }
   ],
   "source": [
    "data = torch.load(\"./data/test_data_full_250m.pt\")"
   ]
  },
  {
   "cell_type": "code",
   "execution_count": 36,
   "metadata": {},
   "outputs": [],
   "source": [
    "cmap = colors.ListedColormap([\n",
    "    \"black\", # wall\n",
    "    \"silver\", # food\n",
    "    \"red\", # g\n",
    "    \"blue\", # ge\n",
    "    \"purple\", # gee\n",
    "    \"white\", # not food\n",
    "    \"red\", # g\n",
    "    \"blue\", # ge\n",
    "    \"purple\", # gee\n",
    "    \"yellow\", # pill\n",
    "    \"red\", # g \n",
    "    \"blue\", # ge\n",
    "    \"purple\", # gee\n",
    "    \"darkgreen\", # pillbro\n",
    "])\n",
    "bounds = [i+0.5 for i in range(15)]\n",
    "norm = colors.BoundaryNorm(bounds, cmap.N)"
   ]
  },
  {
   "cell_type": "code",
   "execution_count": 50,
   "metadata": {},
   "outputs": [],
   "source": [
    "ep_start = 30\n",
    "ep_len = 6\n",
    "layer = 1"
   ]
  },
  {
   "cell_type": "code",
   "execution_count": 48,
   "metadata": {},
   "outputs": [
    {
     "name": "stderr",
     "output_type": "stream",
     "text": [
      "/tmp/ipykernel_1108/1230600365.py:2: FutureWarning: You are using `torch.load` with `weights_only=False` (the current default value), which uses the default pickle module implicitly. It is possible to construct malicious pickle data which will execute arbitrary code during unpickling (See https://github.com/pytorch/pytorch/blob/main/SECURITY.md#untrusted-models for more details). In a future release, the default value for `weights_only` will be flipped to `True`. This limits the functions that could be executed during unpickling. Arbitrary objects will no longer be allowed to be loaded via this mode unless they are explicitly allowlisted by the user via `torch.serialization.add_safe_globals`. We recommend you start setting `weights_only=True` for any use case where you don't have full control of the loaded file. Please open an issue on GitHub for any issues related to this experimental feature.\n",
      "  locprobe.load_state_dict(torch.load(f\"./convresults/models/agent_onto_after_16/250m_layer{layer}_kernel1_wd0.001_seed0.pt\", map_location=torch.device('cpu')))\n"
     ]
    },
    {
     "data": {
      "text/plain": [
       "<All keys matched successfully>"
      ]
     },
     "execution_count": 48,
     "metadata": {},
     "output_type": "execute_result"
    }
   ],
   "source": [
    "locprobe = ConvProbe(32, 5, 1, 0)\n",
    "locprobe.load_state_dict(torch.load(f\"./convresults/models/agent_onto_after_16/250m_layer{layer}_kernel1_wd0.001_seed0.pt\", map_location=torch.device('cpu')))"
   ]
  },
  {
   "cell_type": "code",
   "execution_count": 51,
   "metadata": {},
   "outputs": [
    {
     "data": {
      "image/png": "[encoded data removed]",
      "text/plain": [
       "<Figure size 2000x600 with 6 Axes>"
      ]
     },
     "metadata": {},
     "output_type": "display_data"
    }
   ],
   "source": [
    "fig, axs = plt.subplots(1,ep_len, figsize=(20,6))\n",
    "\n",
    "\n",
    "for k in range(ep_len):\n",
    "\n",
    "    trans = data[ep_start+k]\n",
    "    state = trans[\"board_state\"]\n",
    "\n",
    "    \n",
    "    logitsa, _ = locprobe(trans[\"hidden_states\"][3,(layer*64)+32:(layer*64)+64,:,:])\n",
    "    arrowsa = []\n",
    "    for y in range(13):\n",
    "        for x in range(13):\n",
    "            action = logitsa.argmax(dim=0)[y,x]\n",
    "            if action == 1:\n",
    "                arrowsa.append((x, 12-1*y-0.25, 0, 1)) # up\n",
    "            elif action == 2:\n",
    "                arrowsa.append((x, 12-1*y+0.25, 0, -1)) # down\n",
    "            elif action == 3:\n",
    "                arrowsa.append((x+0.25, 12-1*y, -1, 0)) # left\n",
    "            elif action == 4:\n",
    "                arrowsa.append((x-0.25, 12-1*y, 1, 0)) # right\n",
    "\n",
    "\n",
    "\n",
    "    mini_board = np.zeros((13, 13))\n",
    "    for i in range(1, 15):\n",
    "        mini_board[state[i-1,:, :] == 1] = i\n",
    "    mini_board = np.flip(mini_board, axis=0)\n",
    "    axs[k].imshow(mini_board, interpolation='nearest', origin='lower', cmap=cmap, norm=norm)\n",
    "    axs[k].set_yticks([])\n",
    "    axs[k].set_xticks([])\n",
    "    for (x, y, dx, dy) in arrowsa:\n",
    "        a1 = axs[k].arrow(x, y, dx * 0.25, dy * 0.25, head_width=0.25, head_length=0.25, color=\"teal\")\n",
    "\n",
    "plt.show()"
   ]
  },
  {
   "cell_type": "code",
   "execution_count": 53,
   "metadata": {},
   "outputs": [
    {
     "name": "stderr",
     "output_type": "stream",
     "text": [
      "Initializing env 0 with device cpu\n",
      "Init. environment with obs space \u001b[91mBox(0, 1, (14, 13, 13), uint8)\u001b[0m and action space \u001b[91mDiscrete(5)\u001b[0m\n"
     ]
    },
    {
     "name": "stderr",
     "output_type": "stream",
     "text": [
      "/tmp/ipykernel_1108/754696585.py:25: FutureWarning: You are using `torch.load` with `weights_only=False` (the current default value), which uses the default pickle module implicitly. It is possible to construct malicious pickle data which will execute arbitrary code during unpickling (See https://github.com/pytorch/pytorch/blob/main/SECURITY.md#untrusted-models for more details). In a future release, the default value for `weights_only` will be flipped to `True`. This limits the functions that could be executed during unpickling. Arbitrary objects will no longer be allowed to be loaded via this mode unless they are explicitly allowlisted by the user via `torch.serialization.add_safe_globals`. We recommend you start setting `weights_only=True` for any use case where you don't have full control of the loaded file. Please open an issue on GitHub for any issues related to this experimental feature.\n",
      "  ckp = torch.load(ckp_path, map_location=torch.device('cpu'))\n"
     ]
    }
   ],
   "source": [
    "flags = util.create_setting(args=[], save_flags=False, wrapper_type=1) \n",
    "\n",
    "env = thinker.make(\n",
    "            f\"gym_pilleater/PillEater-v0\", \n",
    "            env_n=1, \n",
    "            gpu=False,\n",
    "            wrapper_type=1, \n",
    "            has_model=False, \n",
    "            train_model=False, \n",
    "            parallel=False, \n",
    "            save_flags=False,\n",
    "            mini=True,\n",
    "            mini_unqtar=False,\n",
    "            mini_unqbox=False         \n",
    "        ) \n",
    "drc_net = DRCNet(\n",
    "                obs_space=env.observation_space,\n",
    "                action_space=env.action_space,\n",
    "                flags=flags,\n",
    "                record_state=True,\n",
    "                input_dim=14\n",
    "                )\n",
    "ckp_path = \"../../checkpoints/pilleater\"\n",
    "ckp_path = os.path.join(util.full_path(ckp_path), f\"ckp_actor_realstep250m.tar\")\n",
    "ckp = torch.load(ckp_path, map_location=torch.device('cpu'))\n",
    "drc_net.load_state_dict(ckp[\"actor_net_state_dict\"], strict=False)\n",
    "\n",
    "rnn_state = drc_net.initial_state(batch_size=1, device=env.device)\n",
    "state = env.env.reset(5)\n",
    "env_out = util.init_env_out(state, flags, dim_actions=1, tuple_action=False)"
   ]
  },
  {
   "cell_type": "code",
   "execution_count": 64,
   "metadata": {},
   "outputs": [],
   "source": [
    "layer = 2\n",
    "feature = \"agent_onto_after_6\"\n",
    "kernel = 1\n",
    "dim = 5\n",
    "seed = 12\n",
    "room_id = 24\n",
    "think = 1\n"
   ]
  },
  {
   "cell_type": "code",
   "execution_count": 65,
   "metadata": {},
   "outputs": [
    {
     "name": "stderr",
     "output_type": "stream",
     "text": [
      "/tmp/ipykernel_1108/2573061318.py:2: FutureWarning: You are using `torch.load` with `weights_only=False` (the current default value), which uses the default pickle module implicitly. It is possible to construct malicious pickle data which will execute arbitrary code during unpickling (See https://github.com/pytorch/pytorch/blob/main/SECURITY.md#untrusted-models for more details). In a future release, the default value for `weights_only` will be flipped to `True`. This limits the functions that could be executed during unpickling. Arbitrary objects will no longer be allowed to be loaded via this mode unless they are explicitly allowlisted by the user via `torch.serialization.add_safe_globals`. We recommend you start setting `weights_only=True` for any use case where you don't have full control of the loaded file. Please open an issue on GitHub for any issues related to this experimental feature.\n",
      "  locprobe.load_state_dict(torch.load(f\"./convresults/models/{feature}/250m_layer{layer}_kernel{kernel}_wd0.001_seed0.pt\", map_location=torch.device('cpu')))\n"
     ]
    },
    {
     "data": {
      "text/plain": [
       "<All keys matched successfully>"
      ]
     },
     "execution_count": 65,
     "metadata": {},
     "output_type": "execute_result"
    }
   ],
   "source": [
    "locprobe = ConvProbe(32,dim, kernel, 1 if kernel==3 else 0)\n",
    "locprobe.load_state_dict(torch.load(f\"./convresults/models/{feature}/250m_layer{layer}_kernel{kernel}_wd0.001_seed0.pt\", map_location=torch.device('cpu')))"
   ]
  },
  {
   "cell_type": "code",
   "execution_count": 66,
   "metadata": {},
   "outputs": [
    {
     "data": {
      "image/png": "[encoded data removed]",
      "text/plain": [
       "<Figure size 1600x800 with 1 Axes>"
      ]
     },
     "metadata": {},
     "output_type": "display_data"
    },
    {
     "name": "stderr",
     "output_type": "stream",
     "text": [
      "MovieWriter PillowWriter unavailable; using Pillow instead.\n"
     ]
    }
   ],
   "source": [
    "fig, axs = plt.subplots(1,1, figsize=(16,8))\n",
    "camera = Camera(fig)\n",
    "env = gym.make(\"gym_pilleater/PillEater-v0\")\n",
    "env.seed(seed)\n",
    "state = env.reset(room_id=room_id)\n",
    "state = {\"real_states\": torch.tensor(state).permute(2,0,1).unsqueeze(0)}\n",
    "env_out = util.init_env_out(state, flags, dim_actions=1, tuple_action=False)\n",
    "\n",
    "rnn_state = drc_net.initial_state(batch_size=1)\n",
    "\n",
    "\n",
    "cmap = colors.ListedColormap([\n",
    "    \"black\", # wall\n",
    "    \"silver\", # food\n",
    "    \"red\", # g\n",
    "    \"blue\", # ge\n",
    "    \"purple\", # gee\n",
    "    \"white\", # not food\n",
    "    \"red\", # g\n",
    "    \"blue\", # ge\n",
    "    \"purple\", # gee\n",
    "    \"yellow\", # pill\n",
    "    \"red\", # g \n",
    "    \"blue\", # ge\n",
    "    \"purple\", # gee\n",
    "    \"darkgreen\", # pillbro\n",
    "])\n",
    "bounds = [i+0.5 for i in range(15)]\n",
    "norm = colors.BoundaryNorm(bounds, cmap.N)\n",
    "\n",
    "axs.set_xticks([])\n",
    "axs.set_yticks([])\n",
    "\n",
    "count = 0\n",
    "for k in range(50):\n",
    "    actor_out, rnn_state = drc_net(env_out, rnn_state, greedy=True)\n",
    "\n",
    "    for tick in [1,2,3]:\n",
    "        logitsa, _ = locprobe(drc_net.hidden_state[0,tick,(layer*64)+32:(layer*64)+64,:,:])\n",
    "        arrowsa = []\n",
    "        for y in range(13):\n",
    "            for x in range(13):\n",
    "                action = logitsa.argmax(dim=0)[y,x]\n",
    "                if action == 1:\n",
    "                    arrowsa.append((x, 12-1*y-0.25, 0, 1)) # up\n",
    "                elif action == 2:\n",
    "                    arrowsa.append((x, 12-1*y+0.25, 0, -1)) # down\n",
    "                elif action == 3:\n",
    "                    arrowsa.append((x+0.25, 12-1*y, -1, 0)) # left\n",
    "                elif action == 4:\n",
    "                    arrowsa.append((x-0.25, 12-1*y, 1, 0)) # right\n",
    "\n",
    "        mini_board = np.zeros((13, 13))\n",
    "        for i in range(1, 15):\n",
    "            mini_board[state[\"real_states\"][0][i-1,:, :] == 1] = i\n",
    "        mini_board = np.flip(mini_board, axis=0)\n",
    "        axs.imshow(mini_board, interpolation='nearest', origin='lower', cmap=cmap, norm=norm)\n",
    "        for (x, y, dx, dy) in arrowsa:\n",
    "            a1 = axs.arrow(x, y, dx * 0.25, dy * 0.25, head_width=0.25, head_length=0.25, color=\"teal\")\n",
    "        plt.pause(0.1)\n",
    "        camera.snap()\n",
    "    for _ in range(think):\n",
    "        actor_out, rnn_state = drc_net(env_out, rnn_state, greedy=True)\n",
    "        for tick in [1,2,3]:\n",
    "            logitsa, _ = locprobe(drc_net.hidden_state[0,tick,(layer*64)+32:(layer*64)+64,:,:])\n",
    "            arrowsa = []\n",
    "            for y in range(13):\n",
    "                for x in range(13):\n",
    "                    action = logitsa.argmax(dim=0)[y,x]\n",
    "                    if action == 1:\n",
    "                        arrowsa.append((x, 12-1*y-0.25, 0, 1)) # up\n",
    "                    elif action == 2:\n",
    "                        arrowsa.append((x, 12-1*y+0.25, 0, -1)) # down\n",
    "                    elif action == 3:\n",
    "                        arrowsa.append((x+0.25, 12-1*y, -1, 0)) # left\n",
    "                    elif action == 4:\n",
    "                        arrowsa.append((x-0.25, 12-1*y, 1, 0)) # right\n",
    "\n",
    "            mini_board = np.zeros((13, 13))\n",
    "            for i in range(1, 15):\n",
    "                mini_board[state[\"real_states\"][0][i-1,:, :] == 1] = i\n",
    "            mini_board = np.flip(mini_board, axis=0)\n",
    "            axs.imshow(mini_board, interpolation='nearest', origin='lower', cmap=cmap, norm=norm)\n",
    "            for (x, y, dx, dy) in arrowsa:\n",
    "                a1 = axs.arrow(x, y, dx * 0.25, dy * 0.25, head_width=0.25, head_length=0.25, color=\"teal\")\n",
    "            plt.pause(0.1)\n",
    "            camera.snap()\n",
    "\n",
    "\n",
    "\n",
    "    state, reward, done, info = env.step(actor_out.action.item())\n",
    "    state = {\"real_states\": torch.tensor(state).permute(2,0,1).unsqueeze(0)}\n",
    "    env_out = util.create_env_out(actor_out.action, state, torch.tensor([reward]), torch.tensor([done]), info, flags)\n",
    "    if done:\n",
    "        mini_board = np.zeros((13, 13))\n",
    "        for i in range(1, 15):\n",
    "            mini_board[state[\"real_states\"][0][i-1,:, :] == 1] = i\n",
    "        mini_board = np.flip(mini_board, axis=0)\n",
    "        axs.imshow(mini_board, interpolation='nearest', origin='lower', cmap=cmap, norm=norm)\n",
    "        plt.pause(0.1)\n",
    "        camera.snap()\n",
    "        count += 1\n",
    "        rnn_state = drc_net.initial_state(batch_size=1)\n",
    "        for j in range(5):\n",
    "            mini_board = np.zeros((13, 13))\n",
    "            axs.imshow(mini_board, interpolation='nearest', origin='lower', cmap=cmap, norm=norm)\n",
    "            plt.pause(0.1)\n",
    "            camera.snap()\n",
    "        #actor_out, rnn_state = drc_net(env_out, rnn_state, greedy=True)\n",
    "        state = env.reset(room_id=room_id)\n",
    "        state = {\"real_states\": torch.tensor(state).permute(2,0,1).unsqueeze(0)}\n",
    "        env_out = util.init_env_out(state, flags, dim_actions=1, tuple_action=False)\n",
    "\n",
    "animation = camera.animate()\n",
    "animation.save(f'./gifs/{feature}_kernel{kernel}_think{think}.gif', writer='PillowWriter', fps=4) "
   ]
  },
  {
   "cell_type": "code",
   "execution_count": 8,
   "metadata": {},
   "outputs": [
    {
     "name": "stderr",
     "output_type": "stream",
     "text": [
      "/tmp/ipykernel_1940/905078904.py:14: FutureWarning: You are using `torch.load` with `weights_only=False` (the current default value), which uses the default pickle module implicitly. It is possible to construct malicious pickle data which will execute arbitrary code during unpickling (See https://github.com/pytorch/pytorch/blob/main/SECURITY.md#untrusted-models for more details). In a future release, the default value for `weights_only` will be flipped to `True`. This limits the functions that could be executed during unpickling. Arbitrary objects will no longer be allowed to be loaded via this mode unless they are explicitly allowlisted by the user via `torch.serialization.add_safe_globals`. We recommend you start setting `weights_only=True` for any use case where you don't have full control of the loaded file. Please open an issue on GitHub for any issues related to this experimental feature.\n",
      "  locprobe.load_state_dict(torch.load(f\"./convresults/models/{feature}/250m_layer{layer}_kernel{kernel}_wd0.001_seed0.pt\", map_location=torch.device('cpu')))\n",
      "/tmp/ipykernel_1940/905078904.py:16: FutureWarning: You are using `torch.load` with `weights_only=False` (the current default value), which uses the default pickle module implicitly. It is possible to construct malicious pickle data which will execute arbitrary code during unpickling (See https://github.com/pytorch/pytorch/blob/main/SECURITY.md#untrusted-models for more details). In a future release, the default value for `weights_only` will be flipped to `True`. This limits the functions that could be executed during unpickling. Arbitrary objects will no longer be allowed to be loaded via this mode unless they are explicitly allowlisted by the user via `torch.serialization.add_safe_globals`. We recommend you start setting `weights_only=True` for any use case where you don't have full control of the loaded file. Please open an issue on GitHub for any issues related to this experimental feature.\n",
      "  locprobeg.load_state_dict(torch.load(f\"./convresults/models/{featureg}/250m_layer{layerg}_kernel{kernelg}_wd0.001_seed0.pt\", map_location=torch.device('cpu')))\n",
      "/tmp/ipykernel_1940/905078904.py:18: FutureWarning: You are using `torch.load` with `weights_only=False` (the current default value), which uses the default pickle module implicitly. It is possible to construct malicious pickle data which will execute arbitrary code during unpickling (See https://github.com/pytorch/pytorch/blob/main/SECURITY.md#untrusted-models for more details). In a future release, the default value for `weights_only` will be flipped to `True`. This limits the functions that could be executed during unpickling. Arbitrary objects will no longer be allowed to be loaded via this mode unless they are explicitly allowlisted by the user via `torch.serialization.add_safe_globals`. We recommend you start setting `weights_only=True` for any use case where you don't have full control of the loaded file. Please open an issue on GitHub for any issues related to this experimental feature.\n",
      "  locprobes.load_state_dict(torch.load(f\"./convresults/models/{features}/250m_layer{layers}_kernel{kernelg}_wd0.001_seed0.pt\", map_location=torch.device('cpu')))\n"
     ]
    },
    {
     "data": {
      "text/plain": [
       "<All keys matched successfully>"
      ]
     },
     "execution_count": 8,
     "metadata": {},
     "output_type": "execute_result"
    }
   ],
   "source": [
    "layer = 2\n",
    "layerg = 0\n",
    "layers = 1\n",
    "feature = \"agent_onto_after_3\"\n",
    "featureg = \"spooky_ghost_loc_future_trajectory_3\"\n",
    "features = \"nonspooky_ghost_loc_future_trajectory_3\"\n",
    "kernel = 3\n",
    "kernelg = 3\n",
    "dim = 2\n",
    "seed = 9\n",
    "room_id = 18\n",
    "think = 0\n",
    "locprobe = ConvProbe(32,5, kernel, 1 )\n",
    "locprobe.load_state_dict(torch.load(f\"./convresults/models/{feature}/250m_layer{layer}_kernel{kernel}_wd0.001_seed0.pt\", map_location=torch.device('cpu')))\n",
    "locprobeg = ConvProbe(32,2, kernelg, 2)\n",
    "locprobeg.load_state_dict(torch.load(f\"./convresults/models/{featureg}/250m_layer{layerg}_kernel{kernelg}_wd0.001_seed0.pt\", map_location=torch.device('cpu')))\n",
    "locprobes = ConvProbe(32,2, kernelg, 2)\n",
    "locprobes.load_state_dict(torch.load(f\"./convresults/models/{features}/250m_layer{layers}_kernel{kernelg}_wd0.001_seed0.pt\", map_location=torch.device('cpu')))"
   ]
  },
  {
   "cell_type": "code",
   "execution_count": 9,
   "metadata": {},
   "outputs": [
    {
     "data": {
      "image/png": "[encoded data removed]",
      "text/plain": [
       "<Figure size 1600x800 with 1 Axes>"
      ]
     },
     "metadata": {},
     "output_type": "display_data"
    },
    {
     "name": "stderr",
     "output_type": "stream",
     "text": [
      "MovieWriter PillowWriter unavailable; using Pillow instead.\n"
     ]
    }
   ],
   "source": [
    "fig, axs = plt.subplots(1,1, figsize=(16,8))\n",
    "camera = Camera(fig)\n",
    "env = gym.make(\"gym_pilleater/PillEater-v0\")\n",
    "env.seed(seed)\n",
    "state = env.reset(room_id=room_id)\n",
    "state = {\"real_states\": torch.tensor(state).permute(2,0,1).unsqueeze(0)}\n",
    "env_out = util.init_env_out(state, flags, dim_actions=1, tuple_action=False)\n",
    "\n",
    "rnn_state = drc_net.initial_state(batch_size=1)\n",
    "\n",
    "\n",
    "cmap = colors.ListedColormap([\n",
    "    \"black\", # wall\n",
    "    \"silver\", # food\n",
    "    \"red\", # g\n",
    "    \"blue\", # ge\n",
    "    \"purple\", # gee\n",
    "    \"white\", # not food\n",
    "    \"red\", # g\n",
    "    \"blue\", # ge\n",
    "    \"purple\", # gee\n",
    "    \"yellow\", # pill\n",
    "    \"red\", # g \n",
    "    \"blue\", # ge\n",
    "    \"purple\", # gee\n",
    "    \"darkgreen\", # pillbro\n",
    "])\n",
    "bounds = [i+0.5 for i in range(15)]\n",
    "norm = colors.BoundaryNorm(bounds, cmap.N)\n",
    "\n",
    "axs.set_xticks([])\n",
    "axs.set_yticks([])\n",
    "\n",
    "count = 0\n",
    "for k in range(40):\n",
    "    #actor_out, rnn_state = drc_net(env_out, rnn_state, greedy=True)\n",
    "    actor_out, rnn_state = drc_net(env_out, rnn_state, greedy=True)\n",
    "\n",
    "    for tick in [1,2,3]:\n",
    "        logitsa, _ = locprobe(drc_net.hidden_state[0,tick,(layer*64)+32:(layer*64)+64,:,:])\n",
    "        arrowsa = []\n",
    "        for y in range(15):\n",
    "            for x in range(15):\n",
    "                action = logitsa.argmax(dim=0)[y,x]\n",
    "                if action == 1:\n",
    "                    arrowsa.append((x, 14-1*y-0.25, 0, 1)) # up\n",
    "                elif action == 2:\n",
    "                    arrowsa.append((x, 14-1*y+0.25, 0, -1)) # down\n",
    "                elif action == 3:\n",
    "                    arrowsa.append((x+0.25, 14-1*y, -1, 0)) # left\n",
    "                elif action == 4:\n",
    "                    arrowsa.append((x-0.25, 14-1*y, 1, 0)) # right\n",
    "\n",
    "        logitsa, _ = locprobeg(drc_net.hidden_state[0,tick,(layerg*64)+32:(layerg*64)+64,:,:])\n",
    "        crossesg = []\n",
    "        for y in range(15):\n",
    "            for x in range(15):\n",
    "                action = logitsa.argmax(dim=0)[y,x]\n",
    "                if action == 1:\n",
    "                    crossesg.append((x, 14-1*y)) # up\n",
    "                elif action == 2:\n",
    "                    crossesg.append((x, 14-1*y)) # down\n",
    "                elif action == 3:\n",
    "                    crossesg.append((x, 14-1*y)) # left\n",
    "                elif action == 4:\n",
    "                    crossesg.append((x, 14-1*y)) # right\n",
    "\n",
    "        mini_board = np.zeros((15, 15))\n",
    "        for i in range(1, 15):\n",
    "            mini_board[state[\"real_states\"][0][i-1,:, :] == 1] = i\n",
    "        mini_board = np.flip(mini_board, axis=0)\n",
    "        axs.imshow(mini_board, interpolation='nearest', origin='lower', cmap=cmap, norm=norm)\n",
    "        for (x, y, dx, dy) in arrowsa:\n",
    "            a1 = axs.arrow(x, y, dx * 0.25, dy * 0.25, head_width=0.25, head_length=0.25, color=\"teal\")\n",
    "        for (x, y) in crossesg:\n",
    "            a1 = axs.scatter([x], [y], s=80, color=\"red\", alpha=0.5)\n",
    "        #for (x, y) in crossesn:\n",
    "            #a1 = axs.scatter([x], [y], s=80, color=\"blue\", alpha=0.5)\n",
    "        plt.pause(0.1)\n",
    "        camera.snap()\n",
    "    for _ in range(think):\n",
    "        actor_out, rnn_state = drc_net(env_out, rnn_state, greedy=True)\n",
    "        for tick in [1,2,3]:\n",
    "            logitsa, _ = locprobe(drc_net.hidden_state[0,tick,(layer*64)+32:(layer*64)+64,:,:])\n",
    "            arrowsa = []\n",
    "            for y in range(15):\n",
    "                for x in range(15):\n",
    "                    action = logitsa.argmax(dim=0)[y,x]\n",
    "                    if action == 1:\n",
    "                        arrowsa.append((x, 14-1*y-0.25, 0, 1)) # up\n",
    "                    elif action == 2:\n",
    "                        arrowsa.append((x, 14-1*y+0.25, 0, -1)) # down\n",
    "                    elif action == 3:\n",
    "                        arrowsa.append((x+0.25, 14-1*y, -1, 0)) # left\n",
    "                    elif action == 4:\n",
    "                        arrowsa.append((x-0.25, 14-1*y, 1, 0)) # right\n",
    "\n",
    "            mini_board = np.zeros((15, 15))\n",
    "            for i in range(1, 15):\n",
    "                mini_board[state[\"real_states\"][0][i-1,:, :] == 1] = i\n",
    "            mini_board = np.flip(mini_board, axis=0)\n",
    "            axs.imshow(mini_board, interpolation='nearest', origin='lower', cmap=cmap, norm=norm)\n",
    "            for (x, y, dx, dy) in arrowsa:\n",
    "                a1 = axs.arrow(x, y, dx * 0.25, dy * 0.25, head_width=0.25, head_length=0.25, color=\"teal\")\n",
    "            plt.pause(0.1)\n",
    "            camera.snap()\n",
    "\n",
    "\n",
    "\n",
    "    state, reward, done, info = env.step(actor_out.action.item())\n",
    "    state = {\"real_states\": torch.tensor(state).permute(2,0,1).unsqueeze(0)}\n",
    "    env_out = util.create_env_out(actor_out.action, state, torch.tensor([reward]), torch.tensor([done]), info, flags)\n",
    "    if done:\n",
    "        mini_board = np.zeros((15, 15))\n",
    "        for i in range(1, 15):\n",
    "            mini_board[state[\"real_states\"][0][i-1,:, :] == 1] = i\n",
    "        mini_board = np.flip(mini_board, axis=0)\n",
    "        axs.imshow(mini_board, interpolation='nearest', origin='lower', cmap=cmap, norm=norm)\n",
    "        plt.pause(0.1)\n",
    "        camera.snap()\n",
    "        count += 1\n",
    "        rnn_state = drc_net.initial_state(batch_size=1)\n",
    "        for j in range(5):\n",
    "            mini_board = np.zeros((15, 15))\n",
    "            axs.imshow(mini_board, interpolation='nearest', origin='lower', cmap=cmap, norm=norm)\n",
    "            plt.pause(0.1)\n",
    "            camera.snap()\n",
    "        #actor_out, rnn_state = drc_net(env_out, rnn_state, greedy=True)\n",
    "        state = env.reset(room_id=room_id)\n",
    "        state = {\"real_states\": torch.tensor(state).permute(2,0,1).unsqueeze(0)}\n",
    "        env_out = util.init_env_out(state, flags, dim_actions=1, tuple_action=False)\n",
    "\n",
    "animation = camera.animate()\n",
    "animation.save(f'./gifs/{feature}_{featureg}_kerne{kernel}_think{think}.gif', writer='PillowWriter', fps=2) "
   ]
  },
  {
   "cell_type": "code",
   "execution_count": 790,
   "metadata": {},
   "outputs": [],
   "source": [
    "ep_len = 6\n",
    "ep_start = 500"
   ]
  },
  {
   "cell_type": "code",
   "execution_count": 791,
   "metadata": {},
   "outputs": [
    {
     "data": {
      "image/png": "[encoded data removed]",
      "text/plain": [
       "<Figure size 2000x600 with 6 Axes>"
      ]
     },
     "metadata": {},
     "output_type": "display_data"
    }
   ],
   "source": [
    "fig, axs = plt.subplots(1,ep_len, figsize=(20,6))\n",
    "\n",
    "\n",
    "for k in range(ep_len):\n",
    "\n",
    "    trans = data[ep_start+k]\n",
    "    state = trans[\"board_state\"]\n",
    "\n",
    "    \n",
    "    arrowsa = []\n",
    "    actions = trans[\"spooky_ghost_loc_future_trajectory_12\"]\n",
    "    for y in range(0,15):\n",
    "        for x in range(0,15):\n",
    "            action = actions[y, x]\n",
    "            if action == 1:\n",
    "                arrowsa.append((x, 14-1*y-0.25, 0, 1)) # up\n",
    "            elif action == 2:\n",
    "                arrowsa.append((x, 14-1*y+0.25, 0, -1)) # down\n",
    "            elif action == 3:\n",
    "                arrowsa.append((x+0.25, 14-1*y, -1, 0)) # left\n",
    "            elif action == 4:\n",
    "                arrowsa.append((x-0.25, 14-1*y, 1, 0)) # right\n",
    "\n",
    "\n",
    "\n",
    "    mini_board = np.zeros((15, 15))\n",
    "    for i in range(1, 15):\n",
    "        mini_board[state[i-1,:, :] == 1] = i\n",
    "    mini_board = np.flip(mini_board, axis=0)\n",
    "    axs[k].imshow(mini_board, interpolation='nearest', origin='lower', cmap=cmap, norm=norm)\n",
    "\n",
    "    axs[k].imshow(mini_board, interpolation='nearest', origin='lower', cmap=cmap, norm=norm)\n",
    "    axs[k].set_yticks([])\n",
    "    axs[k].set_xticks([])\n",
    "    for (x, y, dx, dy) in arrowsa:\n",
    "        a1 = axs[k].arrow(x, y, dx * 0.25, dy * 0.25, head_width=0.25, head_length=0.25, color=\"teal\")\n",
    "\n",
    "plt.show()"
   ]
  },
  {
   "cell_type": "code",
   "execution_count": 3,
   "metadata": {},
   "outputs": [
    {
     "name": "stderr",
     "output_type": "stream",
     "text": [
      "Initializing env 0 with device cpu\n",
      "Init. environment with obs space \u001b[91mBox(0, 1, (14, 15, 15), uint8)\u001b[0m and action space \u001b[91mDiscrete(5)\u001b[0m\n",
      "/tmp/ipykernel_34899/1845916711.py:24: FutureWarning: You are using `torch.load` with `weights_only=False` (the current default value), which uses the default pickle module implicitly. It is possible to construct malicious pickle data which will execute arbitrary code during unpickling (See https://github.com/pytorch/pytorch/blob/main/SECURITY.md#untrusted-models for more details). In a future release, the default value for `weights_only` will be flipped to `True`. This limits the functions that could be executed during unpickling. Arbitrary objects will no longer be allowed to be loaded via this mode unless they are explicitly allowlisted by the user via `torch.serialization.add_safe_globals`. We recommend you start setting `weights_only=True` for any use case where you don't have full control of the loaded file. Please open an issue on GitHub for any issues related to this experimental feature.\n",
      "  ckp = torch.load(ckp_path, map_location=torch.device('cpu'))\n"
     ]
    }
   ],
   "source": [
    "flags = util.create_setting(args=[], save_flags=False, wrapper_type=1) \n",
    "\n",
    "env = thinker.make(\n",
    "            f\"gym_pilleater/PillEater-v0\", \n",
    "            env_n=1, \n",
    "            gpu=False,\n",
    "            wrapper_type=1, \n",
    "            has_model=False, \n",
    "            train_model=False, \n",
    "            parallel=False, \n",
    "            save_flags=False,\n",
    "            mini=True,\n",
    "            mini_unqtar=False,\n",
    "            mini_unqbox=False         \n",
    "        ) \n",
    "drc_net = DRCNet(\n",
    "                obs_space=env.observation_space,\n",
    "                action_space=env.action_space,\n",
    "                flags=flags,\n",
    "                record_state=True,\n",
    "                )\n",
    "ckp_path = \"../../drc_pilleater\"\n",
    "ckp_path = os.path.join(util.full_path(ckp_path), f\"ckp_actor_realstep50m_v2.tar\")\n",
    "ckp = torch.load(ckp_path, map_location=torch.device('cpu'))\n",
    "drc_net.load_state_dict(ckp[\"actor_net_state_dict\"], strict=False)\n",
    "\n",
    "rnn_state = drc_net.initial_state(batch_size=1, device=env.device)\n",
    "state = env.env.reset(5)\n",
    "env_out = util.init_env_out(state, flags, dim_actions=1, tuple_action=False)"
   ]
  },
  {
   "cell_type": "code",
   "execution_count": 190,
   "metadata": {},
   "outputs": [],
   "source": [
    "id = 24\n",
    "seed = 5"
   ]
  },
  {
   "cell_type": "code",
   "execution_count": 191,
   "metadata": {},
   "outputs": [
    {
     "name": "stdout",
     "output_type": "stream",
     "text": [
      "think=0\n",
      "r=9\n",
      "think=2\n",
      "r=159\n"
     ]
    }
   ],
   "source": [
    "results = {}\n",
    "flags = util.create_setting(args=[], save_flags=False, wrapper_type=1) \n",
    "\n",
    "with torch.no_grad():\n",
    "    for think in [0,2]:\n",
    "        r = 0\n",
    "        d = 0\n",
    "        env = gym.make(\"gym_pilleater/PillEater-v0\")\n",
    "        env.seed(seed)\n",
    "        state = env.reset(room_id=id)\n",
    "        state = {\"real_states\": torch.tensor(state).permute(2,0,1).unsqueeze(0)}\n",
    "        env_out = util.init_env_out(state, flags, dim_actions=1, tuple_action=False)\n",
    "        rnn_state = drc_net.initial_state(batch_size=1)\n",
    "        for _ in range(think):\n",
    "                actor_out, rnn_state = drc_net(env_out, rnn_state, greedy=True)\n",
    "                env_out = util.create_env_out(torch.tensor([0]), state, torch.tensor([0]), torch.tensor([False]), {}, flags)\n",
    "        print(f\"{think=}\")\n",
    "        while d < 1:\n",
    "            actor_out, rnn_state = drc_net(env_out, rnn_state, greedy=True)\n",
    "            state, reward, done, info = env.step(actor_out.action.item())\n",
    "            r += reward\n",
    "            state = {\"real_states\": torch.tensor(state).permute(2,0,1).unsqueeze(0)}\n",
    "            env_out = util.create_env_out(actor_out.action, state, torch.tensor([reward]), torch.tensor([done]), info, flags)\n",
    "            if done:\n",
    "                d += 1\n",
    "                env.seed(d)\n",
    "                rnn_state = drc_net.initial_state(batch_size=1)\n",
    "                state = env.reset(room_id=id)\n",
    "                state = {\"real_states\": torch.tensor(state).permute(2,0,1).unsqueeze(0)}\n",
    "                env_out = util.init_env_out(state, flags, dim_actions=1, tuple_action=False)\n",
    "                for _ in range(think):\n",
    "                    actor_out, rnn_state = drc_net(env_out, rnn_state, greedy=True)\n",
    "                    env_out = util.create_env_out(torch.tensor([0]), state, torch.tensor([0]), torch.tensor([False]), {}, flags)\n",
    "        print(f\"{r=}\")\n",
    "        results[think] = r "
   ]
  },
  {
   "cell_type": "code",
   "execution_count": 49,
   "metadata": {},
   "outputs": [],
   "source": [
    "feature = \"agent_onto_after_6\"\n",
    "kernel = 3\n",
    "layer = 2\n",
    "seed = 5\n",
    "dim = 5\n",
    "id = 4\n",
    "r = 0"
   ]
  },
  {
   "cell_type": "code",
   "execution_count": 7,
   "metadata": {},
   "outputs": [
    {
     "name": "stderr",
     "output_type": "stream",
     "text": [
      "/tmp/ipykernel_34899/2573061318.py:2: FutureWarning: You are using `torch.load` with `weights_only=False` (the current default value), which uses the default pickle module implicitly. It is possible to construct malicious pickle data which will execute arbitrary code during unpickling (See https://github.com/pytorch/pytorch/blob/main/SECURITY.md#untrusted-models for more details). In a future release, the default value for `weights_only` will be flipped to `True`. This limits the functions that could be executed during unpickling. Arbitrary objects will no longer be allowed to be loaded via this mode unless they are explicitly allowlisted by the user via `torch.serialization.add_safe_globals`. We recommend you start setting `weights_only=True` for any use case where you don't have full control of the loaded file. Please open an issue on GitHub for any issues related to this experimental feature.\n",
      "  locprobe.load_state_dict(torch.load(f\"./convresults/models/{feature}/250m_layer{layer}_kernel{kernel}_wd0.001_seed0.pt\", map_location=torch.device('cpu')))\n"
     ]
    },
    {
     "data": {
      "text/plain": [
       "<All keys matched successfully>"
      ]
     },
     "execution_count": 7,
     "metadata": {},
     "output_type": "execute_result"
    }
   ],
   "source": [
    "locprobe = ConvProbe(32,dim, kernel, 1 if kernel==3 else 0)\n",
    "locprobe.load_state_dict(torch.load(f\"./convresults/models/{feature}/250m_layer{layer}_kernel{kernel}_wd0.001_seed0.pt\", map_location=torch.device('cpu')))"
   ]
  },
  {
   "cell_type": "code",
   "execution_count": 13,
   "metadata": {},
   "outputs": [],
   "source": [
    "env = gym.make(\"gym_pilleater/PillEater-v0\")\n",
    "env.seed(seed)\n",
    "state = env.reset(room_id=id)\n",
    "state = {\"real_states\": torch.tensor(state).permute(2,0,1).unsqueeze(0)}\n",
    "env_out = util.init_env_out(state, flags, dim_actions=1, tuple_action=False)\n",
    "rnn_state = drc_net.initial_state(batch_size=1)\n",
    "steps = []"
   ]
  },
  {
   "cell_type": "code",
   "execution_count": 10,
   "metadata": {},
   "outputs": [],
   "source": [
    "pause = False"
   ]
  },
  {
   "cell_type": "code",
   "execution_count": 311,
   "metadata": {},
   "outputs": [
    {
     "data": {
      "image/png": "[encoded data removed]",
      "text/plain": [
       "<Figure size 640x480 with 1 Axes>"
      ]
     },
     "metadata": {},
     "output_type": "display_data"
    }
   ],
   "source": [
    "actor_out, rnn_state = drc_net(env_out, rnn_state, greedy=True)\n",
    "\n",
    "for tick in [1,2,3]:\n",
    "    logitsa, _ = locprobe(drc_net.hidden_state[0,tick,(layer*64)+32:(layer*64)+64,:,:])\n",
    "    arrowsa = []\n",
    "    for y in range(15):\n",
    "        for x in range(15):\n",
    "            action = logitsa.argmax(dim=0)[y,x]\n",
    "            if action == 1:\n",
    "                arrowsa.append((x, 14-1*y-0.25, 0, 1)) # up\n",
    "            elif action == 2:\n",
    "                arrowsa.append((x, 14-1*y+0.25, 0, -1)) # down\n",
    "            elif action == 3:\n",
    "                arrowsa.append((x+0.25, 14-1*y, -1, 0)) # left\n",
    "            elif action == 4:\n",
    "                arrowsa.append((x-0.25, 14-1*y, 1, 0)) # right\n",
    "\n",
    "\n",
    "    mini_board = np.zeros((15, 15))\n",
    "    for i in range(1, 15):\n",
    "        mini_board[state[\"real_states\"][0][i-1,:, :] == 1] = i\n",
    "    mini_board = np.flip(mini_board, axis=0)\n",
    "    steps += [(mini_board, arrowsa)]\n",
    "plt.imshow(mini_board, interpolation='nearest', origin='lower', cmap=cmap, norm=norm)\n",
    "plt.xticks([])\n",
    "plt.yticks([])\n",
    "for (x, y, dx, dy) in arrowsa:\n",
    "    a1 = plt.arrow(x, y, dx * 0.25, dy * 0.25, head_width=0.25, head_length=0.25, color=\"teal\")\n",
    "if not pause:\n",
    "    state, reward, done, info = env.step(actor_out.action.item())\n",
    "    r += reward\n",
    "    state = {\"real_states\": torch.tensor(state).permute(2,0,1).unsqueeze(0)}\n",
    "    env_out = util.create_env_out(actor_out.action, state, torch.tensor([reward]), torch.tensor([done]), info, flags)\n",
    "    if done:\n",
    "        state = env.reset(room_id=id)\n",
    "        state = {\"real_states\": torch.tensor(state).permute(2,0,1).unsqueeze(0)}\n",
    "        env_out = util.init_env_out(state, flags, dim_actions=1, tuple_action=False)"
   ]
  },
  {
   "cell_type": "code",
   "execution_count": 409,
   "metadata": {},
   "outputs": [
    {
     "data": {
      "image/png": "[encoded data removed]",
      "text/plain": [
       "<Figure size 1000x3510 with 39 Axes>"
      ]
     },
     "metadata": {},
     "output_type": "display_data"
    }
   ],
   "source": [
    "fig, axs = plt.subplots(len(steps)//3, 3, figsize=(10,0.9*len(steps)))\n",
    "\n",
    "for i, (b, ars) in enumerate(steps):\n",
    "    axs[i//3][i%3].imshow(b, interpolation='nearest', origin='lower', cmap=cmap, norm=norm)\n",
    "    axs[i//3][i%3].set_xticks([])\n",
    "    axs[i//3][i%3].set_yticks([])\n",
    "    for (x, y, dx, dy) in ars:\n",
    "        a1 = axs[i//3][i%3].arrow(x, y, dx * 0.25, dy * 0.25, head_width=0.25, head_length=0.25, color=\"teal\")"
   ]
  },
  {
   "cell_type": "code",
   "execution_count": null,
   "metadata": {},
   "outputs": [],
   "source": [
    "flags = util.create_setting(args=[], save_flags=False, wrapper_type=1) \n",
    "\n",
    "env = thinker.make(\n",
    "            f\"gym_pilleater/PillEater-v0\", \n",
    "            env_n=1, \n",
    "            gpu=False,\n",
    "            wrapper_type=1, \n",
    "            has_model=False, \n",
    "            train_model=False, \n",
    "            parallel=False, \n",
    "            save_flags=False,\n",
    "            mini=True,\n",
    "            mini_unqtar=False,\n",
    "            mini_unqbox=False         \n",
    "        ) \n",
    "drc_net = DRCNet(\n",
    "                obs_space=env.observation_space,\n",
    "                action_space=env.action_space,\n",
    "                flags=flags,\n",
    "                record_state=True,\n",
    "                )\n",
    "ckp_path = \"../../drc_pilleater\"\n",
    "ckp_path = os.path.join(util.full_path(ckp_path), f\"ckp_actor_realstep250m.tar\")\n",
    "ckp = torch.load(ckp_path, map_location=torch.device('cpu'))\n",
    "drc_net.load_state_dict(ckp[\"actor_net_state_dict\"], strict=False)\n",
    "\n",
    "rnn_state = drc_net.initial_state(batch_size=1, device=env.device)\n",
    "state = env.env.reset(5)\n",
    "env_out = util.init_env_out(state, flags, dim_actions=1, tuple_action=False)"
   ]
  },
  {
   "cell_type": "code",
   "execution_count": 993,
   "metadata": {},
   "outputs": [],
   "source": [
    "feature = \"agent_onto_after_6\"\n",
    "kernel = 3\n",
    "layer = 1\n",
    "seed = 34\n",
    "dim = 5\n",
    "id = 3\n",
    "r = 0\n",
    "channel = 14"
   ]
  },
  {
   "cell_type": "code",
   "execution_count": 994,
   "metadata": {},
   "outputs": [
    {
     "name": "stderr",
     "output_type": "stream",
     "text": [
      "/tmp/ipykernel_115051/2573061318.py:2: FutureWarning: You are using `torch.load` with `weights_only=False` (the current default value), which uses the default pickle module implicitly. It is possible to construct malicious pickle data which will execute arbitrary code during unpickling (See https://github.com/pytorch/pytorch/blob/main/SECURITY.md#untrusted-models for more details). In a future release, the default value for `weights_only` will be flipped to `True`. This limits the functions that could be executed during unpickling. Arbitrary objects will no longer be allowed to be loaded via this mode unless they are explicitly allowlisted by the user via `torch.serialization.add_safe_globals`. We recommend you start setting `weights_only=True` for any use case where you don't have full control of the loaded file. Please open an issue on GitHub for any issues related to this experimental feature.\n",
      "  locprobe.load_state_dict(torch.load(f\"./convresults/models/{feature}/250m_layer{layer}_kernel{kernel}_wd0.001_seed0.pt\", map_location=torch.device('cpu')))\n"
     ]
    },
    {
     "data": {
      "text/plain": [
       "<All keys matched successfully>"
      ]
     },
     "execution_count": 994,
     "metadata": {},
     "output_type": "execute_result"
    }
   ],
   "source": [
    "locprobe = ConvProbe(32,dim, kernel, 1 if kernel==3 else 0)\n",
    "locprobe.load_state_dict(torch.load(f\"./convresults/models/{feature}/250m_layer{layer}_kernel{kernel}_wd0.001_seed0.pt\", map_location=torch.device('cpu')))"
   ]
  },
  {
   "cell_type": "code",
   "execution_count": 991,
   "metadata": {},
   "outputs": [
    {
     "data": {
      "text/plain": [
       "<Axes: >"
      ]
     },
     "execution_count": 991,
     "metadata": {},
     "output_type": "execute_result"
    },
    {
     "data": {
      "image/png": "[encoded data removed]",
      "text/plain": [
       "<Figure size 1000x600 with 1 Axes>"
      ]
     },
     "metadata": {},
     "output_type": "display_data"
    }
   ],
   "source": [
    "fig, axs = plt.subplots(figsize=(10,6))\n",
    "sns.barplot(locprobe.conv.weight[4].abs().mean(dim=[1,2]).tolist())"
   ]
  },
  {
   "cell_type": "code",
   "execution_count": 1108,
   "metadata": {},
   "outputs": [],
   "source": [
    "env = gym.make(\"gym_pilleater/PillEater-v0\")\n",
    "env.seed(seed)\n",
    "state = env.reset(room_id=id)\n",
    "state = {\"real_states\": torch.tensor(state).permute(2,0,1).unsqueeze(0)}\n",
    "env_out = util.init_env_out(state, flags, dim_actions=1, tuple_action=False)\n",
    "rnn_state = drc_net.initial_state(batch_size=1)\n",
    "steps = []"
   ]
  },
  {
   "cell_type": "code",
   "execution_count": 1128,
   "metadata": {},
   "outputs": [
    {
     "data": {
      "image/png": "[encoded data removed]",
      "text/plain": [
       "<Figure size 800x400 with 2 Axes>"
      ]
     },
     "metadata": {},
     "output_type": "display_data"
    }
   ],
   "source": [
    "fig, axs = plt.subplots(1,2, figsize=(8,4))\n",
    "actor_out, rnn_state = drc_net(env_out, rnn_state, greedy=True)\n",
    "\n",
    "for tick in [1,2,3]:\n",
    "    logitsa, _ = locprobe(drc_net.hidden_state[0,tick,(layer*64)+32:(layer*64)+64,:,:])\n",
    "    arrowsa = []\n",
    "    for y in range(15):\n",
    "        for x in range(15):\n",
    "            action = logitsa.argmax(dim=0)[y,x]\n",
    "            if action == 1:\n",
    "                arrowsa.append((x, 14-1*y-0.25, 0, 1)) # up\n",
    "            elif action == 2:\n",
    "                arrowsa.append((x, 14-1*y+0.25, 0, -1)) # down\n",
    "            elif action == 3:\n",
    "                arrowsa.append((x+0.25, 14-1*y, -1, 0)) # left\n",
    "            elif action == 4:\n",
    "                arrowsa.append((x-0.25, 14-1*y, 1, 0)) # right\n",
    "\n",
    "\n",
    "    mini_board = np.zeros((15, 15))\n",
    "    for i in range(1, 15):\n",
    "        mini_board[state[\"real_states\"][0][i-1,:, :] == 1] = i\n",
    "    mini_board = np.flip(mini_board, axis=0)\n",
    "    steps += [(mini_board, arrowsa)]\n",
    "axs[0].imshow(mini_board, interpolation='nearest', origin='lower', cmap=cmap, norm=norm)\n",
    "axs[0].set_xticks([])\n",
    "axs[0].set_yticks([])\n",
    "\n",
    "axs[1].imshow(drc_net.hidden_state[0,3,(layer*64)+channel,:,:].detach(), vmin=-.5, vmax=.5)\n",
    "axs[1].set_xticks([])\n",
    "axs[1].set_yticks([])\n",
    "\n",
    "for (x, y, dx, dy) in arrowsa:\n",
    "    a1 = axs[0].arrow(x, y, dx * 0.25, dy * 0.25, head_width=0.25, head_length=0.25, color=\"teal\")\n",
    "if not pause:\n",
    "    state, reward, done, info = env.step(actor_out.action.item())\n",
    "    r += reward\n",
    "    state = {\"real_states\": torch.tensor(state).permute(2,0,1).unsqueeze(0)}\n",
    "    env_out = util.create_env_out(actor_out.action, state, torch.tensor([reward]), torch.tensor([done]), info, flags)\n",
    "    if done:\n",
    "        state = env.reset(room_id=id)\n",
    "        state = {\"real_states\": torch.tensor(state).permute(2,0,1).unsqueeze(0)}\n",
    "        env_out = util.init_env_out(state, flags, dim_actions=1, tuple_action=False)"
   ]
  },
  {
   "cell_type": "code",
   "execution_count": 379,
   "metadata": {},
   "outputs": [
    {
     "data": {
      "image/png": "[encoded data removed]",
      "text/plain": [
       "<Figure size 500x500 with 1 Axes>"
      ]
     },
     "metadata": {},
     "output_type": "display_data"
    },
    {
     "data": {
      "image/png": "[encoded data removed]",
      "text/plain": [
       "<Figure size 500x500 with 1 Axes>"
      ]
     },
     "metadata": {},
     "output_type": "display_data"
    }
   ],
   "source": [
    "import numpy as np\n",
    "import random\n",
    "import matplotlib.pyplot as plt\n",
    "\n",
    "def initialize_maze(width, height):\n",
    "    \"\"\"Initialize the maze grid with all walls\"\"\"\n",
    "    maze = np.ones((height, width), dtype=int)\n",
    "    return maze\n",
    "\n",
    "def add_frontier(maze, frontiers, x, y):\n",
    "    \"\"\"Add frontier walls of a cell to the list\"\"\"\n",
    "    if x >= 2 and maze[y][x - 2] == 1:\n",
    "        frontiers.append((x - 2, y, x - 1, y))\n",
    "    if x < len(maze[0]) - 2 and maze[y][x + 2] == 1:\n",
    "        frontiers.append((x + 2, y, x + 1, y))\n",
    "    if y >= 2 and maze[y - 2][x] == 1:\n",
    "        frontiers.append((x, y - 2, x, y - 1))\n",
    "    if y < len(maze) - 2 and maze[y + 2][x] == 1:\n",
    "        frontiers.append((x, y + 2, x, y + 1))\n",
    "\n",
    "def generate_maze(width, height):\n",
    "    \"\"\"Generate maze using Prim's algorithm\"\"\"\n",
    "    maze = initialize_maze(width, height)\n",
    "    start_x, start_y = random.randrange(0, width, 2), random.randrange(0, height, 2)\n",
    "    maze[start_y][start_x] = 0\n",
    "    \n",
    "    frontiers = []\n",
    "    add_frontier(maze, frontiers, start_x, start_y)\n",
    "    \n",
    "    while frontiers:\n",
    "        idx = random.randint(0, len(frontiers) - 1)\n",
    "        x, y, wx, wy = frontiers.pop(idx)\n",
    "        \n",
    "        if maze[y][x] == 1:\n",
    "            maze[y][x] = 0\n",
    "            maze[wy][wx] = 0\n",
    "            add_frontier(maze, frontiers, x, y)\n",
    "    \n",
    "    return maze\n",
    "\n",
    "def has_adjacent_empty(maze, x, y):\n",
    "    \"\"\"Check if there is an adjacent empty square\"\"\"\n",
    "    adjacent_positions = [(0, -1), (0, 1), (-1, 0), (1, 0)]\n",
    "    for dx, dy in adjacent_positions:\n",
    "        nx, ny = x + dx, y + dy\n",
    "        if 0 <= nx < len(maze[0]) and 0 <= ny < len(maze) and maze[ny][nx] == 0:\n",
    "            return True\n",
    "    return False\n",
    "\n",
    "def remove_random_walls(maze, p=0.3):\n",
    "    \"\"\"Remove walls randomly with probability p if adjacent to an empty square, including outer edges\"\"\"\n",
    "    for y in range(len(maze)):\n",
    "        for x in range(len(maze[0])):\n",
    "            if maze[y][x] == 1 and has_adjacent_empty(maze, x, y) and random.random() < p:\n",
    "                maze[y][x] = 0\n",
    "\n",
    "def plot_maze(maze):\n",
    "    \"\"\"Plot the maze using matplotlib\"\"\"\n",
    "    plt.figure(figsize=(5, 5))\n",
    "    plt.imshow(maze, cmap='binary')\n",
    "    plt.axis('off')\n",
    "    plt.show()\n",
    "\n",
    "# Set maze dimensions\n",
    "width, height = 15, 15\n",
    "\n",
    "# Generate the maze\n",
    "maze = generate_maze(width, height)\n",
    "plot_maze(maze)\n",
    "\n",
    "# Randomly remove walls with probability p = 0.3, including edge walls if adjacent to an empty cell\n",
    "remove_random_walls(maze, p=0.3)\n",
    "\n",
    "# Plot the final maze\n",
    "plot_maze(maze)\n"
   ]
  },
  {
   "cell_type": "code",
   "execution_count": 302,
   "metadata": {},
   "outputs": [
    {
     "data": {
      "text/plain": [
       "np.True_"
      ]
     },
     "execution_count": 302,
     "metadata": {},
     "output_type": "execute_result"
    }
   ],
   "source": [
    "x, y = 1, 1\n",
    "maze[y-1:y+1, x-1:x+1].any() == 1"
   ]
  }
 ],
 "metadata": {
  "kernelspec": {
   "display_name": "venv",
   "language": "python",
   "name": "python3"
  },
  "language_info": {
   "codemirror_mode": {
    "name": "ipython",
    "version": 3
   },
   "file_extension": ".py",
   "mimetype": "text/x-python",
   "name": "python",
   "nbconvert_exporter": "python",
   "pygments_lexer": "ipython3",
   "version": "3.11.7"
  }
 },
 "nbformat": 4,
 "nbformat_minor": 2
}
