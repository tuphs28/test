{
 "cells": [
  {
   "cell_type": "code",
   "execution_count": null,
   "metadata": {},
   "outputs": [
    {
     "name": "stderr",
     "output_type": "stream",
     "text": [
      "\n",
      "/home/tom/mlmi/project/planning/venv/lib/python3.11/site-packages/tqdm/auto.py:21: TqdmWarning: IProgress not found. Please update jupyter and ipywidgets. See https://ipywidgets.readthedocs.io/en/stable/user_install.html\n",
      "  from .autonotebook import tqdm as notebook_tqdm\n",
      "2024-10-29 14:22:17,374\tINFO util.py:154 -- Missing packages: ['ipywidgets']. Run `pip install -U ipywidgets`, then restart the notebook server for rich notebook output.\n"
     ]
    }
   ],
   "source": [
    "import gym_pilleater\n",
    "import gym\n",
    "#import gym_sokoban\n",
    "import matplotlib.pyplot as plt\n",
    "import thinker\n",
    "import torch\n",
    "from thinker import util\n",
    "import os\n",
    "from thinker.actor_net import DRCNet\n",
    "import torch\n",
    "import numpy as np\n",
    "import matplotlib.pyplot as plt\n",
    "from matplotlib import colors\n",
    "from gym import spaces\n",
    "from celluloid import Camera"
   ]
  },
  {
   "cell_type": "code",
   "execution_count": 22,
   "metadata": {},
   "outputs": [],
   "source": [
    "def render_board(state):\n",
    "    mini_board = np.zeros((15, 15))\n",
    "    for i in range(1, 15):\n",
    "        mini_board[state[\"real_states\"][0][i-1,:, :] == 1] = i\n",
    "\n",
    "    cmap = colors.ListedColormap([\n",
    "        \"black\", # wall\n",
    "        \"silver\", # food\n",
    "        \"red\", # g\n",
    "        \"aqua\", # ge\n",
    "        \"skyblue\", # gee\n",
    "        \"white\", # not food\n",
    "        \"tomato\", # g\n",
    "        \"cyan\", # ge\n",
    "        \"lavender\", # gee\n",
    "        \"yellow\", # pill\n",
    "        \"gold\", # g \n",
    "        \"peru\", # ge\n",
    "        \"linen\", # gee\n",
    "        \"darkgreen\", # pillbro\n",
    "    ])\n",
    "    bounds = [i+0.5 for i in range(15)]\n",
    "    norm = colors.BoundaryNorm(bounds, cmap.N)\n",
    "\n",
    "    plt.imshow(mini_board, interpolation='nearest', origin='lower', cmap=cmap, norm=norm)\n",
    "    plt.xticks([])\n",
    "    plt.yticks([])\n",
    "    plt.show()"
   ]
  },
  {
   "cell_type": "code",
   "execution_count": 124,
   "metadata": {},
   "outputs": [
    {
     "name": "stderr",
     "output_type": "stream",
     "text": [
      "Initializing env 0 with device cpu\n",
      "Init. environment with obs space \u001b[91mBox(0, 2, (14, 15, 15), uint8)\u001b[0m and action space \u001b[91mDiscrete(5)\u001b[0m\n",
      "/tmp/ipykernel_1899/3492747941.py:24: FutureWarning: You are using `torch.load` with `weights_only=False` (the current default value), which uses the default pickle module implicitly. It is possible to construct malicious pickle data which will execute arbitrary code during unpickling (See https://github.com/pytorch/pytorch/blob/main/SECURITY.md#untrusted-models for more details). In a future release, the default value for `weights_only` will be flipped to `True`. This limits the functions that could be executed during unpickling. Arbitrary objects will no longer be allowed to be loaded via this mode unless they are explicitly allowlisted by the user via `torch.serialization.add_safe_globals`. We recommend you start setting `weights_only=True` for any use case where you don't have full control of the loaded file. Please open an issue on GitHub for any issues related to this experimental feature.\n",
      "  ckp = torch.load(ckp_path, map_location=torch.device('cpu'))\n"
     ]
    }
   ],
   "source": [
    "flags = util.create_setting(args=[], save_flags=False, wrapper_type=1) \n",
    "\n",
    "env = thinker.make(\n",
    "            f\"gym_pilleater/PillEater-v0\", \n",
    "            env_n=1, \n",
    "            gpu=False,\n",
    "            wrapper_type=1, \n",
    "            has_model=False, \n",
    "            train_model=False, \n",
    "            parallel=False, \n",
    "            save_flags=False,\n",
    "            mini=True,\n",
    "            mini_unqtar=False,\n",
    "            mini_unqbox=False         \n",
    "        ) \n",
    "drc_net = DRCNet(\n",
    "                obs_space=env.observation_space,\n",
    "                action_space=env.action_space,\n",
    "                flags=flags,\n",
    "                record_state=True,\n",
    "                )\n",
    "ckp_path = \"../drc_pilleater\"\n",
    "ckp_path = os.path.join(util.full_path(ckp_path), f\"ckp_actor_realstep250m.tar\")\n",
    "ckp = torch.load(ckp_path, map_location=torch.device('cpu'))\n",
    "drc_net.load_state_dict(ckp[\"actor_net_state_dict\"], strict=False)\n",
    "\n",
    "rnn_state = drc_net.initial_state(batch_size=1, device=env.device)\n",
    "state = env.env.reset(5)\n",
    "env_out = util.init_env_out(state, flags, dim_actions=1, tuple_action=False)"
   ]
  },
  {
   "cell_type": "code",
   "execution_count": 122,
   "metadata": {},
   "outputs": [
    {
     "ename": "AttributeError",
     "evalue": "'AsyncVectorEnv' object has no attribute 'make_movement_arrays'",
     "output_type": "error",
     "traceback": [
      "\u001b[0;31m---------------------------------------------------------------------------\u001b[0m",
      "\u001b[0;31mAttributeError\u001b[0m                            Traceback (most recent call last)",
      "Cell \u001b[0;32mIn[122], line 1\u001b[0m\n\u001b[0;32m----> 1\u001b[0m \u001b[43menv\u001b[49m\u001b[38;5;241;43m.\u001b[39;49m\u001b[43menv\u001b[49m\u001b[38;5;241;43m.\u001b[39;49m\u001b[43menv\u001b[49m\u001b[38;5;241;43m.\u001b[39;49m\u001b[43menv\u001b[49m\u001b[38;5;241;43m.\u001b[39;49m\u001b[43menv\u001b[49m\u001b[38;5;241;43m.\u001b[39;49m\u001b[43mmake_movement_arrays\u001b[49m()\n",
      "File \u001b[0;32m~/mlmi/project/planning/venv/lib/python3.11/site-packages/gym/core.py:229\u001b[0m, in \u001b[0;36mWrapper.__getattr__\u001b[0;34m(self, name)\u001b[0m\n\u001b[1;32m    227\u001b[0m \u001b[38;5;28;01mif\u001b[39;00m name\u001b[38;5;241m.\u001b[39mstartswith(\u001b[38;5;124m\"\u001b[39m\u001b[38;5;124m_\u001b[39m\u001b[38;5;124m\"\u001b[39m):\n\u001b[1;32m    228\u001b[0m     \u001b[38;5;28;01mraise\u001b[39;00m \u001b[38;5;167;01mAttributeError\u001b[39;00m(\u001b[38;5;124mf\u001b[39m\u001b[38;5;124m\"\u001b[39m\u001b[38;5;124mattempted to get missing private attribute \u001b[39m\u001b[38;5;124m'\u001b[39m\u001b[38;5;132;01m{\u001b[39;00mname\u001b[38;5;132;01m}\u001b[39;00m\u001b[38;5;124m'\u001b[39m\u001b[38;5;124m\"\u001b[39m)\n\u001b[0;32m--> 229\u001b[0m \u001b[38;5;28;01mreturn\u001b[39;00m \u001b[38;5;28mgetattr\u001b[39m(\u001b[38;5;28mself\u001b[39m\u001b[38;5;241m.\u001b[39menv, name)\n",
      "\u001b[0;31mAttributeError\u001b[0m: 'AsyncVectorEnv' object has no attribute 'make_movement_arrays'"
     ]
    }
   ],
   "source": [
    "env.env.env.env.env.make_movement_arrays()"
   ]
  },
  {
   "cell_type": "code",
   "execution_count": 27,
   "metadata": {},
   "outputs": [
    {
     "data": {
      "text/plain": [
       "torch.Size([1, 14, 15, 15])"
      ]
     },
     "execution_count": 27,
     "metadata": {},
     "output_type": "execute_result"
    }
   ],
   "source": [
    "state[\"real_states\"].shape"
   ]
  },
  {
   "cell_type": "code",
   "execution_count": 7,
   "metadata": {},
   "outputs": [],
   "source": [
    "env = gym.make(\"gym_pilleater/PillEater-v0\")\n",
    "state = env.reset(room_id=10)\n",
    "state = {\"real_states\": torch.tensor(state).permute(2,0,1).unsqueeze(0)}\n",
    "env_out = util.init_env_out(state, flags, dim_actions=1, tuple_action=False)"
   ]
  },
  {
   "cell_type": "code",
   "execution_count": 8,
   "metadata": {},
   "outputs": [
    {
     "ename": "NameError",
     "evalue": "name 'render_board' is not defined",
     "output_type": "error",
     "traceback": [
      "\u001b[0;31m---------------------------------------------------------------------------\u001b[0m",
      "\u001b[0;31mNameError\u001b[0m                                 Traceback (most recent call last)",
      "Cell \u001b[0;32mIn[8], line 5\u001b[0m\n\u001b[1;32m      3\u001b[0m state \u001b[38;5;241m=\u001b[39m {\u001b[38;5;124m\"\u001b[39m\u001b[38;5;124mreal_states\u001b[39m\u001b[38;5;124m\"\u001b[39m: torch\u001b[38;5;241m.\u001b[39mtensor(state)\u001b[38;5;241m.\u001b[39mpermute(\u001b[38;5;241m2\u001b[39m,\u001b[38;5;241m0\u001b[39m,\u001b[38;5;241m1\u001b[39m)\u001b[38;5;241m.\u001b[39munsqueeze(\u001b[38;5;241m0\u001b[39m)}\n\u001b[1;32m      4\u001b[0m env_out \u001b[38;5;241m=\u001b[39m util\u001b[38;5;241m.\u001b[39mcreate_env_out(actor_out\u001b[38;5;241m.\u001b[39maction, state, torch\u001b[38;5;241m.\u001b[39mtensor([reward]), torch\u001b[38;5;241m.\u001b[39mtensor([done]), info, flags)\n\u001b[0;32m----> 5\u001b[0m \u001b[43mrender_board\u001b[49m(state)\n",
      "\u001b[0;31mNameError\u001b[0m: name 'render_board' is not defined"
     ]
    }
   ],
   "source": [
    "actor_out, rnn_state = drc_net(env_out, rnn_state, greedy=True)\n",
    "state, reward, done, info = env.step(actor_out.action.item())\n",
    "state = {\"real_states\": torch.tensor(state).permute(2,0,1).unsqueeze(0)}\n",
    "env_out = util.create_env_out(actor_out.action, state, torch.tensor([reward]), torch.tensor([done]), info, flags)\n",
    "render_board(state)"
   ]
  },
  {
   "cell_type": "code",
   "execution_count": 87,
   "metadata": {},
   "outputs": [
    {
     "data": {
      "image/png": "[encoded data removed]",
      "text/plain": [
       "<Figure size 1600x800 with 6 Axes>"
      ]
     },
     "metadata": {},
     "output_type": "display_data"
    },
    {
     "name": "stderr",
     "output_type": "stream",
     "text": [
      "MovieWriter PillowWriter unavailable; using Pillow instead.\n"
     ]
    }
   ],
   "source": [
    "fig, axs = plt.subplots(1,6, figsize=(16,8))\n",
    "camera = Camera(fig)\n",
    "think = 3\n",
    "b = 20\n",
    "env = gym.make(\"gym_pilleater/PillEater-v0\")\n",
    "env.seed(2)\n",
    "state = env.reset(room_id=22)\n",
    "state = {\"real_states\": torch.tensor(state).permute(2,0,1).unsqueeze(0)}\n",
    "env_out = util.init_env_out(state, flags, dim_actions=1, tuple_action=False)\n",
    "\n",
    "rnn_state = drc_net.initial_state(batch_size=1)\n",
    "\n",
    "for _ in range(think):\n",
    "        actor_out, rnn_state = drc_net(env_out, rnn_state, greedy=True)\n",
    "\n",
    "cmap = colors.ListedColormap([\n",
    "    \"black\", # wall\n",
    "    \"silver\", # food\n",
    "    \"red\", # g\n",
    "    \"blue\", # ge\n",
    "    \"purple\", # gee\n",
    "    \"white\", # not food\n",
    "    \"red\", # g\n",
    "    \"blue\", # ge\n",
    "    \"purple\", # gee\n",
    "    \"yellow\", # pill\n",
    "    \"red\", # g \n",
    "    \"blue\", # ge\n",
    "    \"purple\", # gee\n",
    "    \"darkgreen\", # pillbro\n",
    "])\n",
    "bounds = [i+0.5 for i in range(15)]\n",
    "norm = colors.BoundaryNorm(bounds, cmap.N)\n",
    "\n",
    "for t in range(6):\n",
    "    axs[t].set_xticks([])\n",
    "    axs[t].set_yticks([])\n",
    "\n",
    "count = 0\n",
    "for k in range(15):\n",
    "    #actor_out, rnn_state = drc_net(env_out, rnn_state, greedy=True)\n",
    "    actor_out, rnn_state = drc_net(env_out, rnn_state, greedy=True)\n",
    "    state, reward, done, info = env.step(actor_out.action.item())\n",
    "    state = {\"real_states\": torch.tensor(state).permute(2,0,1).unsqueeze(0)}\n",
    "    env_out = util.create_env_out(actor_out.action, state, torch.tensor([reward]), torch.tensor([done]), info, flags)\n",
    "    mini_board = np.zeros((15, 15))\n",
    "    for i in range(1, 15):\n",
    "        mini_board[state[\"real_states\"][0][i-1,:, :] == 1] = i\n",
    "    mini_board = np.flip(mini_board, axis=0)\n",
    "    axs[0].imshow(mini_board, interpolation='nearest', origin='lower', cmap=cmap, norm=norm)\n",
    "    for l in range(5):\n",
    "        axs[1+l].imshow(drc_net.hidden_state[0,-1,160+b+l,:,:].detach(), vmin=-1.5, vmax=1.5)\n",
    "    plt.pause(0.1)\n",
    "    camera.snap()\n",
    "    if done:\n",
    "        count += 1\n",
    "        rnn_state = drc_net.initial_state(batch_size=1)\n",
    "        for j in range(5):\n",
    "            mini_board = np.zeros((15, 15))\n",
    "            axs[0].imshow(mini_board, interpolation='nearest', origin='lower', cmap=cmap, norm=norm)\n",
    "            plt.pause(0.1)\n",
    "            camera.snap()\n",
    "        #actor_out, rnn_state = drc_net(env_out, rnn_state, greedy=True)\n",
    "        state = env.reset(room_id=6)\n",
    "        state = {\"real_states\": torch.tensor(state).permute(2,0,1).unsqueeze(0)}\n",
    "        env_out = util.init_env_out(state, flags, dim_actions=1, tuple_action=False)\n",
    "\n",
    "animation = camera.animate()\n",
    "animation.save('test.gif', writer='PillowWriter', fps=0.5) "
   ]
  },
  {
   "cell_type": "code",
   "execution_count": 52,
   "metadata": {},
   "outputs": [
    {
     "data": {
      "text/plain": [
       "320"
      ]
     },
     "execution_count": 52,
     "metadata": {},
     "output_type": "execute_result"
    }
   ],
   "source": [
    "\n",
    "160+b+l"
   ]
  },
  {
   "cell_type": "code",
   "execution_count": 102,
   "metadata": {},
   "outputs": [
    {
     "name": "stdout",
     "output_type": "stream",
     "text": [
      "think=0\n",
      "r=25422\n",
      "think=1\n",
      "r=25650\n",
      "think=2\n",
      "r=25874\n",
      "think=3\n",
      "r=26654\n",
      "think=4\n",
      "r=26736\n",
      "think=5\n",
      "r=27567\n",
      "think=6\n",
      "r=27041\n",
      "think=7\n",
      "r=26768\n"
     ]
    }
   ],
   "source": [
    "results = {}\n",
    "flags = util.create_setting(args=[], save_flags=False, wrapper_type=1) \n",
    "id = 22\n",
    "\n",
    "\n",
    "with torch.no_grad():\n",
    "    for think in [0,1,2,3,4,5,6,7]:\n",
    "        r = 0\n",
    "        d = 0\n",
    "        env = gym.make(\"gym_pilleater/PillEater-v0\")\n",
    "        env.seed(d)\n",
    "        state = env.reset(room_id=id)\n",
    "        state = {\"real_states\": torch.tensor(state).permute(2,0,1).unsqueeze(0)}\n",
    "        env_out = util.init_env_out(state, flags, dim_actions=1, tuple_action=False)\n",
    "        rnn_state = drc_net.initial_state(batch_size=1)\n",
    "        for _ in range(think):\n",
    "                actor_out, rnn_state = drc_net(env_out, rnn_state, greedy=True)\n",
    "                env_out = util.create_env_out(torch.tensor([0]), state, torch.tensor([0]), torch.tensor([False]), {}, flags)\n",
    "        print(f\"{think=}\")\n",
    "        while d < 300:\n",
    "            actor_out, rnn_state = drc_net(env_out, rnn_state, greedy=True)\n",
    "            state, reward, done, info = env.step(actor_out.action.item())\n",
    "            r += reward\n",
    "            state = {\"real_states\": torch.tensor(state).permute(2,0,1).unsqueeze(0)}\n",
    "            env_out = util.create_env_out(actor_out.action, state, torch.tensor([reward]), torch.tensor([done]), info, flags)\n",
    "            if done:\n",
    "                d += 1\n",
    "                env.seed(d)\n",
    "                rnn_state = drc_net.initial_state(batch_size=1)\n",
    "                state = env.reset(room_id=id)\n",
    "                state = {\"real_states\": torch.tensor(state).permute(2,0,1).unsqueeze(0)}\n",
    "                env_out = util.init_env_out(state, flags, dim_actions=1, tuple_action=False)\n",
    "                for _ in range(think):\n",
    "                    actor_out, rnn_state = drc_net(env_out, rnn_state, greedy=True)\n",
    "                    env_out = util.create_env_out(torch.tensor([0]), state, torch.tensor([0]), torch.tensor([False]), {}, flags)\n",
    "        print(f\"{r=}\")\n",
    "        results[think] = r "
   ]
  },
  {
   "cell_type": "code",
   "execution_count": 106,
   "metadata": {},
   "outputs": [
    {
     "data": {
      "image/png": "[encoded data removed]",
      "text/plain": [
       "<Figure size 640x480 with 1 Axes>"
      ]
     },
     "metadata": {},
     "output_type": "display_data"
    }
   ],
   "source": [
    "fs = 16\n",
    "plt.ylabel(\"Total Reward\", fontsize=fs)\n",
    "plt.xlabel(\"Number of Thinking Steps Before Acting\", fontsize=fs)\n",
    "plt.plot([i for i in results.values()], marker=\"o\")\n",
    "plt.xticks([0,1,2,3,4,5,6,7], [0,1,2,3,4,5,6,7], fontsize=fs)\n",
    "plt.yticks([25500, 26500, 27500], [25500, 26500, 27500], fontsize=fs)\n",
    "plt.title(\"Reward Over 300 Lives (12 Aliens)\", fontsize=fs)\n",
    "plt.show()"
   ]
  },
  {
   "cell_type": "code",
   "execution_count": 21,
   "metadata": {},
   "outputs": [
    {
     "data": {
      "text/plain": [
       "([<matplotlib.axis.XTick at 0x7ff146b33f10>,\n",
       "  <matplotlib.axis.XTick at 0x7ff146ae4690>,\n",
       "  <matplotlib.axis.XTick at 0x7ff146b2c7d0>,\n",
       "  <matplotlib.axis.XTick at 0x7ff146968fd0>,\n",
       "  <matplotlib.axis.XTick at 0x7ff14696c290>],\n",
       " [Text(0, 0, '0'),\n",
       "  Text(1, 0, '1'),\n",
       "  Text(2, 0, '2'),\n",
       "  Text(3, 0, '3'),\n",
       "  Text(4, 0, '4')])"
      ]
     },
     "execution_count": 21,
     "metadata": {},
     "output_type": "execute_result"
    },
    {
     "data": {
      "image/png": "[encoded data removed]",
      "text/plain": [
       "<Figure size 640x480 with 1 Axes>"
      ]
     },
     "metadata": {},
     "output_type": "display_data"
    }
   ],
   "source": [
    "plt.plot(results.values())\n",
    "plt.title(\"Fails for thinking boost\")\n",
    "plt.xticks([0,1,2,3,4])"
   ]
  },
  {
   "cell_type": "code",
   "execution_count": null,
   "metadata": {},
   "outputs": [
    {
     "data": {
      "image/png": "[encoded data removed]",
      "text/plain": [
       "<Figure size 640x480 with 1 Axes>"
      ]
     },
     "metadata": {},
     "output_type": "display_data"
    },
    {
     "name": "stderr",
     "output_type": "stream",
     "text": [
      "MovieWriter PillowWriter unavailable; using Pillow instead.\n"
     ]
    }
   ],
   "source": [
    "fig, axs = plt.subplots()\n",
    "camera = Camera(fig)\n",
    "\n",
    "cmap = colors.ListedColormap([\n",
    "    \"black\", # wall\n",
    "    \"silver\", # food\n",
    "    \"red\", # g\n",
    "    \"darkblue\", # ge\n",
    "    \"blue\", # gee\n",
    "    \"white\", # not food\n",
    "    \"tomato\", # g\n",
    "    \"darkblue\", # ge\n",
    "    \"blue\", # gee\n",
    "    \"yellow\", # pill\n",
    "    \"gold\", # g \n",
    "    \"peru\", # ge\n",
    "    \"linen\", # gee\n",
    "    \"darkgreen\", # pillbro\n",
    "])\n",
    "bounds = [i+0.5 for i in range(15)]\n",
    "norm = colors.BoundaryNorm(bounds, cmap.N)\n",
    "\n",
    "axs.set_xticks([])\n",
    "axs.set_yticks([])\n",
    "\n",
    "for k in range(500):\n",
    "    actor_out, rnn_state = drc_net(env_out, rnn_state, greedy=True)\n",
    "    state, reward, done, info = env.step(actor_out.action)\n",
    "    env_out = util.create_env_out(actor_out.action, state, reward, done, info, flags)\n",
    "    mini_board = np.zeros((15, 15))\n",
    "    for i in range(1, 15):\n",
    "        mini_board[state[\"real_states\"][0][i-1,:, :] == 1] = i\n",
    "    axs.imshow(mini_board, interpolation='nearest', origin='lower', cmap=cmap, norm=norm)\n",
    "    plt.pause(0.1)\n",
    "    camera.snap()\n",
    "\n",
    "animation = camera.animate()\n",
    "animation.save('test3.gif', writer='PillowWriter', fps=15) "
   ]
  },
  {
   "cell_type": "code",
   "execution_count": 409,
   "metadata": {},
   "outputs": [
    {
     "data": {
      "text/plain": [
       "tensor([4])"
      ]
     },
     "execution_count": 409,
     "metadata": {},
     "output_type": "execute_result"
    }
   ],
   "source": [
    "actor_out.action"
   ]
  },
  {
   "cell_type": "code",
   "execution_count": 60,
   "metadata": {},
   "outputs": [],
   "source": [
    "class PillEater:\n",
    "    WALLS = 1\n",
    "\n",
    "    FOOD = 2\n",
    "    GHOSTONFOOD = 3\n",
    "    GHOSTONFOOD_EDIBLE = 4\n",
    "    GHOSTONFOOD_EDIBLE_END = 5\n",
    "\n",
    "    NOTFOOD = 6\n",
    "    GHOSTNOTONFOOD = 7\n",
    "    GHOSTNOTONFOOD_EDIBLE = 8\n",
    "    GHOSTNOTONFOOD_EDIBLE_END = 9\n",
    "\n",
    "    PILL = 10\n",
    "    GHOSTONPILL = 11\n",
    "    GHOSTONPILL_EDIBLE = 12\n",
    "    GHOSTONPILL_EDIBLE_END = 13\n",
    "    \n",
    "    PILLMAN = 14\n",
    "\n",
    "    ANYPILL = [4, 11, 12, 13]\n",
    "\n",
    "    NUM_ACTIONS = 5\n",
    "    MODES = ('regular', 'avoid', 'hunt', 'ambush', 'rush')\n",
    "\n",
    "STANDARD_MAP = [\n",
    "    [1, 1, 1, 1, 1, 1, 1, 1, 1, 1, 1, 1, 1, 1, 1],\n",
    "    [1, 0, 0, 0, 1, 0, 0, 0, 0, 0, 1, 0, 0, 0, 1],\n",
    "    [1, 0, 1, 0, 1, 0, 1, 1, 1, 0, 1, 0, 1, 0, 1],\n",
    "    [1, 0, 0, 0, 0, 0, 0, 0, 0, 0, 0, 0, 0, 0, 1],\n",
    "    [1, 0, 1, 0, 1, 0, 1, 1, 1, 0, 1, 0, 1, 0, 1],\n",
    "    [1, 0, 1, 0, 0, 0, 0, 0, 0, 0, 0, 0, 1, 0, 1],\n",
    "    [1, 0, 1, 1, 1, 1, 0, 1, 0, 1, 1, 1, 1, 0, 1],\n",
    "    [1, 0, 0, 0, 0, 0, 0, 1, 0, 0, 0, 0, 0, 0, 1],\n",
    "    [1, 0, 1, 1, 1, 1, 0, 1, 0, 1, 1, 1, 1, 0, 1],\n",
    "    [1, 0, 1, 0, 0, 0, 0, 0, 0, 0, 0, 0, 1, 0, 1],\n",
    "    [1, 0, 1, 0, 1, 0, 1, 1, 1, 0, 1, 0, 1, 0, 1],\n",
    "    [1, 0, 0, 0, 0, 0, 0, 0, 0, 0, 0, 0, 0, 0, 1],\n",
    "    [1, 0, 1, 0, 1, 0, 1, 1, 1, 0, 1, 0, 1, 0, 1],\n",
    "    [1, 0, 0, 0, 1, 0, 0, 0, 0, 0, 1, 0, 0, 0, 1],\n",
    "    [1, 1, 1, 1, 1, 1, 1, 1, 1, 1, 1, 1, 1, 1, 1]\n",
    "    ]"
   ]
  },
  {
   "cell_type": "code",
   "execution_count": 86,
   "metadata": {},
   "outputs": [],
   "source": [
    "env = PillEaterEnv()\n",
    "state = env.reset()"
   ]
  },
  {
   "cell_type": "code",
   "execution_count": 88,
   "metadata": {},
   "outputs": [
    {
     "data": {
      "image/png": "[encoded data removed]",
      "text/plain": [
       "<Figure size 640x480 with 1 Axes>"
      ]
     },
     "metadata": {},
     "output_type": "display_data"
    }
   ],
   "source": [
    "state, reward, done, _ = env.step(4)\n",
    "if done:\n",
    "    env.reset()\n",
    "fig, axs = plt.subplots()\n",
    "mini_board = np.zeros((15, 15))\n",
    "for i in range(1,env.nplanes+1):\n",
    "    mini_board[state[:,:,i-1] == 1] = i\n",
    "cmap = colors.ListedColormap([\n",
    "    \"black\", # wall\n",
    "    \"silver\", # food\n",
    "    \"darkblue\", # g\n",
    "    \"aqua\", # ge\n",
    "    \"crimson\", # gee\n",
    "    \"white\", # not food\n",
    "    \"navy\", # g\n",
    "    \"cyan\", # ge\n",
    "    \"red\", # gee\n",
    "    \"yellow\", # pill\n",
    "    \"gold\", # g \n",
    "    \"peru\", # ge\n",
    "    \"linen\", # gee\n",
    "    \"darkgreen\", # pillbro\n",
    "])\n",
    "bounds= [i+0.5 for i in range(env.nplanes+1)]\n",
    "norm = colors.BoundaryNorm(bounds, cmap.N)\n",
    "axs.imshow(mini_board, interpolation='nearest', origin='lower', cmap=cmap, norm=norm)\n",
    "axs.set_xticks([])\n",
    "axs.set_yticks([])\n",
    "plt.show()"
   ]
  },
  {
   "cell_type": "code",
   "execution_count": 197,
   "metadata": {},
   "outputs": [
    {
     "data": {
      "text/plain": [
       "np.float32(1.0)"
      ]
     },
     "execution_count": 197,
     "metadata": {},
     "output_type": "execute_result"
    }
   ],
   "source": [
    "env.nfood"
   ]
  },
  {
   "cell_type": "code",
   "execution_count": 79,
   "metadata": {},
   "outputs": [
    {
     "data": {
      "text/plain": [
       "array([[1., 1., 1., 1., 1., 1., 1., 1., 1., 1., 1., 1., 1., 1., 1.],\n",
       "       [1., 3., 3., 3., 1., 3., 3., 3., 3., 3., 1., 3., 3., 3., 1.],\n",
       "       [1., 3., 1., 3., 1., 3., 1., 1., 1., 3., 1., 3., 1., 3., 1.],\n",
       "       [1., 3., 3., 3., 3., 3., 3., 3., 3., 3., 3., 3., 3., 3., 1.],\n",
       "       [1., 3., 1., 3., 1., 3., 1., 1., 1., 3., 1., 3., 1., 3., 1.],\n",
       "       [1., 3., 1., 3., 3., 3., 3., 3., 3., 3., 3., 5., 1., 3., 1.],\n",
       "       [1., 5., 1., 1., 1., 1., 3., 1., 3., 1., 1., 1., 1., 3., 1.],\n",
       "       [1., 3., 3., 3., 3., 3., 3., 1., 3., 6., 3., 3., 3., 3., 1.],\n",
       "       [1., 3., 1., 1., 1., 1., 3., 1., 3., 1., 1., 1., 1., 3., 1.],\n",
       "       [1., 3., 1., 3., 3., 3., 3., 3., 3., 3., 3., 3., 1., 3., 1.],\n",
       "       [1., 3., 1., 3., 1., 3., 1., 1., 1., 3., 1., 3., 1., 3., 1.],\n",
       "       [1., 3., 3., 3., 3., 3., 3., 3., 3., 3., 3., 3., 3., 3., 1.],\n",
       "       [1., 3., 1., 3., 1., 3., 1., 1., 1., 3., 1., 3., 1., 3., 1.],\n",
       "       [1., 3., 2., 4., 1., 3., 3., 3., 3., 3., 1., 3., 3., 3., 1.],\n",
       "       [1., 1., 1., 1., 1., 1., 1., 1., 1., 1., 1., 1., 1., 1., 1.]])"
      ]
     },
     "execution_count": 79,
     "metadata": {},
     "output_type": "execute_result"
    }
   ],
   "source": [
    "mini_board"
   ]
  },
  {
   "cell_type": "code",
   "execution_count": 232,
   "metadata": {},
   "outputs": [
    {
     "data": {
      "text/plain": [
       "array([[0, 0, 0, 0, 0, 0, 0, 0, 0, 0, 0, 0, 0, 0, 0],\n",
       "       [0, 1, 1, 1, 0, 1, 1, 1, 1, 1, 0, 1, 1, 1, 0],\n",
       "       [0, 1, 0, 1, 0, 1, 0, 0, 0, 1, 0, 1, 0, 1, 0],\n",
       "       [0, 1, 1, 1, 1, 1, 1, 1, 1, 1, 1, 1, 1, 1, 0],\n",
       "       [0, 1, 0, 2, 0, 1, 0, 0, 0, 1, 0, 1, 0, 1, 0],\n",
       "       [0, 1, 0, 1, 1, 1, 1, 1, 1, 1, 1, 1, 0, 1, 0],\n",
       "       [0, 1, 0, 0, 0, 0, 1, 0, 1, 0, 0, 0, 0, 1, 0],\n",
       "       [0, 1, 1, 1, 1, 1, 1, 0, 1, 1, 1, 1, 1, 1, 0],\n",
       "       [0, 1, 0, 0, 0, 0, 1, 0, 1, 0, 0, 0, 0, 1, 0],\n",
       "       [0, 1, 0, 1, 1, 1, 1, 1, 1, 1, 1, 1, 0, 1, 0],\n",
       "       [0, 1, 0, 1, 0, 1, 0, 0, 0, 1, 0, 1, 0, 1, 0],\n",
       "       [0, 1, 1, 1, 1, 1, 1, 1, 1, 1, 1, 1, 1, 1, 0],\n",
       "       [0, 1, 0, 1, 0, 1, 0, 0, 0, 1, 0, 1, 0, 1, 0],\n",
       "       [0, 1, 1, 1, 0, 1, 1, 1, 1, 1, 0, 1, 1, 1, 0],\n",
       "       [0, 0, 0, 0, 0, 0, 0, 0, 0, 0, 0, 0, 0, 0, 0]])"
      ]
     },
     "execution_count": 232,
     "metadata": {},
     "output_type": "execute_result"
    }
   ],
   "source": [
    "state.argmax(axis=-1)"
   ]
  },
  {
   "cell_type": "code",
   "execution_count": 2,
   "metadata": {},
   "outputs": [
    {
     "name": "stderr",
     "output_type": "stream",
     "text": [
      "Initializing env 0 with device cpu\n",
      "Init. environment with obs space \u001b[91mBox(0, 2, (14, 15, 15), uint8)\u001b[0m and action space \u001b[91mDiscrete(5)\u001b[0m\n"
     ]
    },
    {
     "name": "stdout",
     "output_type": "stream",
     "text": [
      "beginning reset\n",
      "reseting..\n"
     ]
    }
   ],
   "source": [
    "env = thinker.make(\n",
    "            f\"gym_pilleater/PillEater-v0\", \n",
    "            env_n=1, \n",
    "            gpu=False,\n",
    "            wrapper_type=1, \n",
    "            has_model=False, \n",
    "            train_model=False, \n",
    "            parallel=False, \n",
    "            save_flags=False,     \n",
    "        )\n",
    "state = env.reset() "
   ]
  },
  {
   "cell_type": "code",
   "execution_count": 3,
   "metadata": {},
   "outputs": [
    {
     "data": {
      "image/png": "[encoded data removed]",
      "text/plain": [
       "<Figure size 640x480 with 1 Axes>"
      ]
     },
     "metadata": {},
     "output_type": "display_data"
    }
   ],
   "source": [
    "state, reward, done, _ = env.step(torch.tensor([3]))\n",
    "if done:\n",
    "    print(\"You lost :(\")\n",
    "    #env.reset()\n",
    "fig, axs = plt.subplots()\n",
    "mini_board = np.zeros((15, 15))\n",
    "for i in range(1, 14+1):\n",
    "    mini_board[state[\"real_states\"][0][i-1,:,:] == 1] = i\n",
    "cmap = colors.ListedColormap([\n",
    "    \"black\",\n",
    "    \"white\",\n",
    "    \"silver\",\n",
    "    \"blue\", # pillman\n",
    "    \"darkgreen\",\n",
    "    \"limegreen\",\n",
    "    \"navy\",\n",
    "    \"darkblue\",\n",
    "    \"salmon\",\n",
    "    \"tomato\",\n",
    "    \"yellow\",\n",
    "    \"palegreen\",\n",
    "    \"green\",\n",
    "    \"lime\",\n",
    "    \"teal\",\n",
    "    \"cyan\",\n",
    "    \"steelblue\",\n",
    "    \"lavender\",\n",
    "    \"grey\"\n",
    "][:14])\n",
    "bounds= [i+0.5 for i in range(14+1)]\n",
    "norm = colors.BoundaryNorm(bounds, cmap.N)\n",
    "axs.imshow(mini_board, interpolation='nearest', origin='lower', cmap=cmap, norm=norm)\n",
    "axs.set_xticks([])\n",
    "axs.set_yticks([])\n",
    "plt.show()"
   ]
  },
  {
   "cell_type": "code",
   "execution_count": 9,
   "metadata": {},
   "outputs": [
    {
     "data": {
      "text/plain": [
       "tensor([True])"
      ]
     },
     "execution_count": 9,
     "metadata": {},
     "output_type": "execute_result"
    }
   ],
   "source": [
    "s, r, d, i = env.step(torch.tensor([1]))\n"
   ]
  },
  {
   "cell_type": "code",
   "execution_count": 97,
   "metadata": {},
   "outputs": [],
   "source": [
    "import numpy as np\n",
    "import gym\n",
    "from gym import spaces\n",
    "import math\n",
    "\n",
    "class PillEater:\n",
    "    WALLS = 0\n",
    "    NOTFOOD = 1\n",
    "    FOOD = 2\n",
    "    PILLMAN = 3\n",
    "    PILL = 4\n",
    "    GHOSTONFOOD = 5\n",
    "    GHOSTNOTONFOOD = 6\n",
    "    GHOSTONFOOD_EDIBLE = 7\n",
    "    GHOSTNOTONFOOD_EDIBLE = 8\n",
    "    GHOSTONFOOD_EDIBLE_END = 9\n",
    "    GHOSTNOTONFOOD_EDIBLE_END = 10\n",
    "    GHOSTONPILL = 11\n",
    "    GHOSTONPILL_EDIBLE = 12\n",
    "    GHOSTONPILL_EDIBLE_END = 13\n",
    "    NUM_ACTIONS = 5\n",
    "    MODES = ('regular', 'avoid', 'hunt', 'ambush', 'rush')\n",
    "\n",
    "STANDARD_MAP = np.array([\n",
    "    [1, 1, 1, 1, 1, 1, 1, 1, 1, 1, 1, 1, 1, 1, 1],\n",
    "    [1, 0, 0, 0, 1, 0, 0, 0, 0, 0, 1, 0, 0, 0, 1],\n",
    "    [1, 0, 1, 0, 1, 0, 1, 1, 1, 0, 1, 0, 1, 0, 1],\n",
    "    [1, 0, 0, 0, 0, 0, 0, 0, 0, 0, 0, 0, 0, 0, 1],\n",
    "    [1, 0, 1, 0, 1, 0, 1, 1, 1, 0, 1, 0, 1, 0, 1],\n",
    "    [1, 0, 1, 0, 0, 0, 0, 0, 0, 0, 0, 0, 1, 0, 1],\n",
    "    [1, 0, 1, 1, 1, 1, 0, 1, 0, 1, 1, 1, 1, 0, 1],\n",
    "    [1, 0, 0, 0, 0, 0, 0, 1, 0, 0, 0, 0, 0, 0, 1],\n",
    "    [1, 0, 1, 1, 1, 1, 0, 1, 0, 1, 1, 1, 1, 0, 1],\n",
    "    [1, 0, 1, 0, 0, 0, 0, 0, 0, 0, 0, 0, 1, 0, 1],\n",
    "    [1, 0, 1, 0, 1, 0, 1, 1, 1, 0, 1, 0, 1, 0, 1],\n",
    "    [1, 0, 0, 0, 0, 0, 0, 0, 0, 0, 0, 0, 0, 0, 1],\n",
    "    [1, 0, 1, 0, 1, 0, 1, 1, 1, 0, 1, 0, 1, 0, 1],\n",
    "    [1, 0, 0, 0, 1, 0, 0, 0, 0, 0, 1, 0, 0, 0, 1],\n",
    "    [1, 1, 1, 1, 1, 1, 1, 1, 1, 1, 1, 1, 1, 1, 1]])\n",
    "\n",
    "\n",
    "\n",
    "class PillEaterEnv(gym.Env):\n",
    "\n",
    "    metadata = {\n",
    "        \"render_modes\": [\"human\", \"rgb_array\"],\n",
    "        \"render_fps\": 4,\n",
    "        \"walls\": 0,\n",
    "        \"food\": 1,\n",
    "        \"pillman\": 2,\n",
    "        \"ghosts\": 3,\n",
    "        \"ghost_edible\": 4,\n",
    "        \"pill\": 5,\n",
    "        \"num_actions\": 5,\n",
    "        \"modes\": (\"regular\", \"avoid\", \"hunt\", \"ambush\", \"rush\")\n",
    "        }\n",
    "    \n",
    "    def __init__(self, mode=\"regular\", frame_cap=300, dan_num=0, mini=True, mini_unqtar=False, mini_unqbox=False):\n",
    "\n",
    "        assert mode in self.metadata[\"modes\"]\n",
    "        self.nghosts_init = 1\n",
    "        self.ghost_speed_init = 0.5\n",
    "        self.ghost_speed = self.ghost_speed_init\n",
    "        self.ghost_speed_increase = 0.1\n",
    "        self.end_on_collect = False\n",
    "        self.npills = 2\n",
    "        self.pill_duration = 20\n",
    "        self.seed_value = 123\n",
    "        self.discount = 1\n",
    "        self.stochasticity = 0.05\n",
    "        self.obs_is_rgb = True\n",
    "        self.frame_cap = frame_cap\n",
    "        self.safe_distance = 5\n",
    "        map_array = STANDARD_MAP\n",
    "        self.map, self.walls = self.parse_map(map_array)\n",
    "        self.map = np.array(self.map)\n",
    "        self.nactions = self.map.shape[2]\n",
    "        self.height = self.map.shape[0]\n",
    "        self.width = self.map.shape[1]\n",
    "        #self.reverse_dir = (4, 5, 2, 3)\n",
    "        self.reverse_dir = (3, 2, 5, 4)\n",
    "        self.dir_vec = np.array([[-1, 0], [1, 0], [0, -1], [0, 1]])\n",
    "        #self.dir_vec = np.array([[0, 1], [-1, 0], [0, -1], [1, 0]]) # what is this?\n",
    "        self.world_state = dict(\n",
    "            pillman=self._make_pillman(),\n",
    "            ghosts=[],\n",
    "            food=np.zeros(shape=(self.height, self.width), dtype=np.float32),\n",
    "            notfood=np.zeros(shape=(self.height, self.width), dtype=np.float32),\n",
    "            pills=[None] * self.npills,\n",
    "            power=0\n",
    "        )\n",
    "        self.nplanes = 14\n",
    "        self.image = np.zeros(\n",
    "            shape=(self.height, self.width, self.nplanes), dtype=np.uint8)\n",
    "        self.color_image = np.zeros(shape=(3, self.height, self.width),\n",
    "                                    dtype=np.float32)\n",
    "        self.frame = 0\n",
    "        self.reward = 0.\n",
    "        self.pcontinue = 1.\n",
    "        self._init_level(1)\n",
    "        self._make_image()\n",
    "        self.mode = mode\n",
    "        self.timer = 0\n",
    "        if self.mode == 'regular':\n",
    "            self.step_reward = 0\n",
    "            self.food_reward = 1\n",
    "            self.big_pill_reward = 2\n",
    "            self.ghost_hunt_reward = 5\n",
    "            self.ghost_death_reward = 0\n",
    "            self.all_pill_terminate = False\n",
    "            self.all_ghosts_terminate = False\n",
    "            self.all_food_terminate = True\n",
    "            self.timer_terminate = -1\n",
    "        else:\n",
    "            raise ValueError(\"Other modes not implemented yet, mucho sad\")\n",
    "\n",
    "        self.observation_space = spaces.Box(low=0, high=5, shape=(self.height, self.width, self.nplanes), dtype=np.uint8)\n",
    "        self.action_space = spaces.Discrete(5)\n",
    "    \n",
    "    def _make_pillman(self):\n",
    "        return self._make_actor(0)\n",
    "\n",
    "    def _make_enemy(self):\n",
    "        return self._make_actor(self.safe_distance)\n",
    "\n",
    "    def _make_actor(self, safe_distance):\n",
    "        \"\"\"Creates an actor.\n",
    "\n",
    "        An actor is a `ConfigDict` with a positions `pos` and a direction `dir`.\n",
    "        The position is an array with two elements, the height and width. The\n",
    "        direction is an integer representing the direction faced by the actor.\n",
    "\n",
    "        Args:\n",
    "        safe_distance: a `float`. The minimum distance from Pillman.\n",
    "\n",
    "        Returns:\n",
    "        A `ConfigDict`.\n",
    "        \"\"\"\n",
    "        actor = {}\n",
    "        if safe_distance > 0:\n",
    "            occupied_map = np.copy(self.walls)\n",
    "\n",
    "            from_ = (self.world_state['pillman']['pos'] - np.array(\n",
    "                [self.safe_distance, self.safe_distance]))\n",
    "            to = (self.world_state['pillman']['pos'] + np.array(\n",
    "                [self.safe_distance, self.safe_distance]))\n",
    "            from_[0] = max(from_[0], 1)\n",
    "            from_[1] = max(from_[1], 1)\n",
    "            to[0] = min(to[0], occupied_map.shape[0])\n",
    "            to[1] = min(to[1], occupied_map.shape[1])\n",
    "\n",
    "            occupied_map[from_[0]:to[0], from_[1]:to[1]] = 1\n",
    "\n",
    "            actor['pos'] = self.get_random_position(occupied_map)\n",
    "            actor['dir'] = np.random.randint(4)\n",
    "        else:\n",
    "            actor['pos'] = self.get_random_position(self.walls)\n",
    "            actor['dir'] = np.random.randint(4)\n",
    "\n",
    "        return actor\n",
    "\n",
    "    def _make_pill(self):\n",
    "        pill = dict(\n",
    "            pos=self.get_random_position(self.walls)\n",
    "        )\n",
    "\n",
    "        return pill\n",
    "\n",
    "    def _init_level(self, level):\n",
    "        \"\"\"Initialises the level.\"\"\"\n",
    "        self.level = level\n",
    "        self._fill_food(self.walls, self.world_state['food'])\n",
    "        self.world_state['pills'] = [self._make_pill() for _ in range(self.npills)]\n",
    "        self.world_state['pillman']['pos'] = self.get_random_position(self.walls)\n",
    "\n",
    "        y, x = self.world_state[\"pillman\"][\"pos\"]\n",
    "        self.world_state[\"food\"][y, x] = 0\n",
    "        self.world_state[\"notfood\"][y, x] = 1\n",
    "\n",
    "        self.nghosts = int(self.nghosts_init + math.floor((level - 1) / 2))\n",
    "        self.world_state['ghosts'] = [self._make_enemy() for _ in range(self.nghosts)]\n",
    "        self.world_state['power'] = 0\n",
    "\n",
    "        self.ghost_speed = (\n",
    "            self.ghost_speed_init + self.ghost_speed_increase * (level - 1))\n",
    "        self.timer = 0\n",
    "\n",
    "    def _fill_food(self, walls, food):\n",
    "        food.fill(-1)\n",
    "        food *= walls\n",
    "        food += 1\n",
    "        self.nfood = food.sum()\n",
    "\n",
    "    def _get_food(self, posx, posy):\n",
    "        self.reward += self.food_reward\n",
    "        self.world_state['food'][posx][posy] = 0\n",
    "        self.world_state['notfood'][posx][posy] = 1\n",
    "        self.nfood -= 1\n",
    "        if self.nfood == 0 and self.all_food_terminate:\n",
    "            self._init_level(self.level + 1)\n",
    "\n",
    "    def _get_pill(self, pill_index):\n",
    "        self.world_state['pills'].pop(pill_index)\n",
    "        self.reward += self.big_pill_reward\n",
    "        self.world_state['power'] = self.pill_duration\n",
    "        if (not self.world_state['pills']) and self.all_pill_terminate:\n",
    "            self._init_level(self.level + 1)\n",
    "\n",
    "    def _kill_ghost(self, ghost_index):\n",
    "        self.world_state['ghosts'].pop(ghost_index)\n",
    "        self.reward += self.ghost_hunt_reward\n",
    "        if (not self.world_state['ghosts']) and self.all_ghosts_terminate:\n",
    "            self._init_level(self.level + 1)\n",
    "\n",
    "    def _die_by_ghost(self):\n",
    "        self.reward += self.ghost_death_reward\n",
    "        self.pcontinue = 0\n",
    "\n",
    "    def _move_pillman(self, action):\n",
    "        \"\"\"Moves Pillman following the action in the proto `action_proto`.\"\"\"\n",
    "        action += 1  # our code is 1 based\n",
    "        pos = self.world_state['pillman']['pos']\n",
    "        pillman = self.world_state['pillman']\n",
    "        self.update_2d_pos(self.map, pos, action, pos)\n",
    "        if self.world_state['food'][pos[0]][pos[1]] == 1:\n",
    "            self._get_food(pos[0], pos[1])\n",
    "        for i, pill in enumerate(self.world_state['pills']):\n",
    "            pos = pill['pos']\n",
    "            if pos[0] == pillman['pos'][0] and pos[1] == pillman['pos'][1]:\n",
    "                self._get_pill(i)\n",
    "                break\n",
    "\n",
    "    def _move_ghost(self, ghost):\n",
    "        \"\"\"Moves the given ghost.\"\"\"\n",
    "        pos = ghost['pos']\n",
    "        new_pos = np.zeros(shape=(2,), dtype=np.float32)\n",
    "        pillman = self.world_state['pillman']\n",
    "        available = []\n",
    "        for i in range(2, self.nactions + 1):\n",
    "            self.update_2d_pos(self.map, pos, i, new_pos)\n",
    "            if pos[0] != new_pos[0] or pos[1] != new_pos[1]:\n",
    "                available.append(i)\n",
    "        n_available = len(available)\n",
    "        if n_available == 1:\n",
    "            ghost['dir'] = available[0]\n",
    "        elif n_available == 2:\n",
    "            if ghost['dir'] not in available:\n",
    "                if self.reverse_dir[ghost['dir'] - 2] == available[0]:\n",
    "                    ghost['dir'] = available[1]\n",
    "                else:\n",
    "                    ghost['dir'] = available[0]\n",
    "        else:\n",
    "            rev_dir = self.reverse_dir[ghost['dir'] - 2]\n",
    "            for i in range(n_available):\n",
    "                if available[i] == rev_dir:\n",
    "                    available.pop(i)\n",
    "                    n_available -= 1\n",
    "                    break\n",
    "            prods = np.zeros(n_available, dtype=np.float32)\n",
    "            x = np.array(\n",
    "                [pillman['pos'][0] - pos[0], pillman['pos'][1] - pos[1]], dtype=np.float32)\n",
    "            norm = np.linalg.norm(x)\n",
    "            if norm > 0:\n",
    "                x *= 1. / norm\n",
    "                for i in range(n_available):\n",
    "                    prods[i] = np.dot(x, self.dir_vec[available[i] - 2])\n",
    "                if self.world_state['power'] == 0:\n",
    "                    if self.stochasticity > np.random.uniform():\n",
    "                        j = np.random.randint(n_available)\n",
    "                    else:\n",
    "                        # move towards pillman:\n",
    "                        j = np.argmax(prods)\n",
    "                else:\n",
    "                # run away from pillman:\n",
    "                    j = np.argmin(prods)\n",
    "                ghost['dir'] = available[j]\n",
    "        self.update_2d_pos(self.map, pos, ghost['dir'], pos)\n",
    "\n",
    "    def _make_image(self):\n",
    "        \"\"\"Represent world as a (height, width, 14) Tensor\"\"\"\n",
    "        self.image.fill(0)\n",
    "        self.image[:, :, PillEater.WALLS] = self.walls\n",
    "        self.image[:, :, PillEater.FOOD] = self.world_state['food']\n",
    "        self.image[:, :, PillEater.NOTFOOD] = self.world_state['notfood']\n",
    "\n",
    "        y, x = self.world_state['pillman']['pos']\n",
    "        if self.world_state[\"food\"][y, x] == 1:\n",
    "            self.image[y, x, PillEater.FOOD] = 0\n",
    "        else:\n",
    "            self.image[y, x, PillEater.NOTFOOD] = 0\n",
    "        self.image[y, x, PillEater.PILLMAN] = 1\n",
    "\n",
    "        for pill in self.world_state['pills']:\n",
    "            y, x = pill[\"pos\"]\n",
    "            self.image[y, x, PillEater.FOOD] = 0\n",
    "            self.image[y, x, PillEater.PILL] = 1\n",
    "\n",
    "        for ghost in self.world_state['ghosts']:\n",
    "            edibility = self.world_state['power'] / float(self.pill_duration)\n",
    "            y, x = ghost['pos']\n",
    "            if self.image[y, x, PillEater.PILL] == 1:\n",
    "                self.image[y, x, PillEater.PILL] = 0\n",
    "                if edibility > 0:\n",
    "                    if edibility > 0.2:\n",
    "                        self.image[y, x, PillEater.GHOSTONPILL_EDIBLE] = 1 \n",
    "                    else:\n",
    "                        self.image[y, x, PillEater.GHOSTONPILL_EDIBLE_END] = 1\n",
    "                else:\n",
    "                    self.image[y, x, PillEater.GHOSTONPILL] = 1 \n",
    "            else:\n",
    "                if self.world_state[\"food\"][y, x] == 1:\n",
    "                    self.image[y, x, PillEater.FOOD] = 0\n",
    "                    if edibility > 0:\n",
    "                        if edibility > 0.2:\n",
    "                            self.image[y, x, PillEater.GHOSTONFOOD_EDIBLE] = 1 \n",
    "                        else:\n",
    "                            self.image[y, x, PillEater.GHOSTONFOOD_EDIBLE_END] = 1\n",
    "                    else:\n",
    "                        self.image[y, x, PillEater.GHOSTONFOOD] = 1 \n",
    "                else:\n",
    "                    self.image[y, x, PillEater.NOTFOOD] = 0\n",
    "                    if edibility > 0:\n",
    "                        if edibility > 0.2:\n",
    "                            self.image[y, x, PillEater.GHOSTNOTONFOOD_EDIBLE] = 1 \n",
    "                        else:\n",
    "                            self.image[y, x, PillEater.GHOSTNOTONFOOD_EDIBLE_END] = 1\n",
    "                    else:\n",
    "                        self.image[y, x, PillEater.GHOSTNOTONFOOD] = 1 \n",
    "\n",
    "        return self.image\n",
    "\n",
    "    def start(self):\n",
    "        \"\"\"Starts a new episode.\"\"\"\n",
    "        self.frame = 0\n",
    "        self._init_level(1)\n",
    "        self.reward = 0\n",
    "        self.pcontinue = 1\n",
    "        self.ghost_speed = self.ghost_speed_init\n",
    "        return self._make_image(), self.reward, self.pcontinue\n",
    "    \n",
    "    def reset(self, options=None, room_id=None):\n",
    "        \"\"\"Starts a new episode.\"\"\"\n",
    "        #self.seed = seed\n",
    "        self.frame = 0\n",
    "        self._init_level(1)\n",
    "        self.reward = 0\n",
    "        self.pcontinue = 1\n",
    "        self.ghost_speed = self.ghost_speed_init\n",
    "        return self._make_image()\n",
    "    \n",
    "    def step(self, action):\n",
    "        \"\"\"Advances environment one time-step following the given action.\"\"\"\n",
    "        self.frame += 1\n",
    "        pillman = self.world_state['pillman']\n",
    "        self.pcontinue = self.discount\n",
    "        self.reward = self.step_reward\n",
    "        self.timer += 1\n",
    "        # Update world state\n",
    "        self.world_state['power'] = max(0, self.world_state['power']-1)\n",
    "\n",
    "        # move pillman\n",
    "        self._move_pillman(action)\n",
    "        for i, ghost in enumerate(self.world_state['ghosts']):\n",
    "            #print(f\"moving ghost {i}\")\n",
    "        # first check if pillman went onto a ghost\n",
    "            pos = ghost['pos']\n",
    "            if pos[0] == pillman['pos'][0] and pos[1] == pillman['pos'][1]:\n",
    "                if self.world_state['power'] == 0:\n",
    "                    self._die_by_ghost()\n",
    "                else:\n",
    "                    self._kill_ghost(i)\n",
    "                    break\n",
    "            # Then move ghosts\n",
    "            speed = self.ghost_speed\n",
    "            if self.world_state['power'] != 0:\n",
    "                speed *= 0.5\n",
    "            if np.random.uniform() < speed:\n",
    "                self._move_ghost(ghost)\n",
    "                pos = ghost['pos']\n",
    "                # check if ghost went onto pillman\n",
    "                if pos[0] == pillman['pos'][0] and pos[1] == pillman['pos'][1]:\n",
    "                    if self.world_state['power'] == 0:\n",
    "                        self._die_by_ghost()\n",
    "                    else:\n",
    "                        self._kill_ghost(i)\n",
    "                        # assume you can only eat one ghost per turn:\n",
    "                        break\n",
    "        \n",
    "\n",
    "    # Check if level over\n",
    "        if self.timer == self.timer_terminate:\n",
    "            self._init_level(self.level + 1)\n",
    "\n",
    "    # Check if framecap reached\n",
    "        if self.frame_cap > 0 and self.frame >= self.frame_cap:\n",
    "            self.pcontinue = 0\n",
    "\n",
    "        return (self._make_image(), self.reward, self.pcontinue == 0, {})\n",
    "    \n",
    "    def observation(self, agent_id=0):\n",
    "        return (self.reward,\n",
    "                self.pcontinue,\n",
    "                self.observation_as_rgb(self.image))\n",
    "    \n",
    "    def parse_map(self, map_array):\n",
    "        \"\"\"Parses a map when there are actions: no-op, up, down, left, right.\n",
    "\n",
    "        Args:\n",
    "            map_array: 2D numpy array that contains the map.\n",
    "\n",
    "        Returns:\n",
    "            A 3D numpy array (height, width, actions) that contains the resulting state\n",
    "            for a given position + action, and a 2D numpy array (height, width) with the\n",
    "            walls of the map.\n",
    "\n",
    "        Raises:\n",
    "            ValueError: if the map does not contain only zeros and ones.\n",
    "        \"\"\"\n",
    "        \n",
    "        act_def = [\n",
    "            [0,0], # no-op\n",
    "            [-1, 0], # up\n",
    "            [1, 0], # down\n",
    "            [0, -1], #left\n",
    "            [0, 1] # right\n",
    "            ] \n",
    "\n",
    "        walls = np.zeros_like(map_array)\n",
    "        new_map_array = []\n",
    "        for i in range(map_array.shape[0]):\n",
    "            new_map_array.append([])\n",
    "            for j in range(map_array.shape[1]):\n",
    "                new_map_array[i].append([])\n",
    "                if map_array[i, j] == 0:\n",
    "                    for k in range(len(act_def)):\n",
    "                        new_map_array[i][j].append([i + act_def[k][0], j + act_def[k][1]])\n",
    "                elif map_array[i, j] == 1:\n",
    "                    for k in range(len(act_def)):\n",
    "                        new_map_array[i][j].append([i, j])\n",
    "                    walls[i, j] = 1\n",
    "                else:\n",
    "                    raise ValueError(\"Option not understood, %d\" % map_array[i, j])\n",
    "                for k in range(len(new_map_array[i][j])):\n",
    "                    if map_array[new_map_array[i][j][k][0]][new_map_array[i][j][k][1]] == 1:\n",
    "                        new_map_array[i][j][k][0] = i\n",
    "                        new_map_array[i][j][k][1] = j\n",
    "        return np.array(new_map_array), walls\n",
    "    \n",
    "    def update_2d_pos(self, array_map, pos, action, pos_result):\n",
    "        posv = array_map[pos[0]][pos[1]][action - 1]\n",
    "        pos_result[0] = posv[0]\n",
    "        pos_result[1] = posv[1]\n",
    "        return pos_result\n",
    "    \n",
    "    def get_random_position(self, map_array):\n",
    "        \"\"\"Gets a random available position in a binary map array; available positions are noughts, walls are ones\n",
    "\n",
    "        Args:\n",
    "        map_array: numpy array of the map to search an available position on.\n",
    "\n",
    "        Returns:\n",
    "        The chosen random position.\n",
    "\n",
    "        Raises:\n",
    "        ValueError: if there is no available space in the map.\n",
    "        \"\"\"\n",
    "        if map_array.sum() <= 0:\n",
    "            raise ValueError(\"There is no available space in the map.\")\n",
    "        map_dims = len(map_array.shape)\n",
    "        pos = np.zeros(map_dims, dtype=np.int32)\n",
    "        while True:\n",
    "            result = map_array\n",
    "            for i in range(map_dims):\n",
    "                pos[i] = np.random.randint(map_array.shape[i])\n",
    "                result = result[pos[i]]\n",
    "            if result == 0:\n",
    "                break\n",
    "        return pos\n",
    "    \n",
    "    def seed(self, seed):\n",
    "        self.seed_value = seed\n",
    "        np.random.seed(seed)"
   ]
  },
  {
   "cell_type": "code",
   "execution_count": 98,
   "metadata": {},
   "outputs": [],
   "source": [
    "env = PillEaterEnv(mode=\"regular\", frame_cap=300, dan_num=0, mini=True, mini_unqtar=False, mini_unqbox=False)\n",
    "state = env.reset()"
   ]
  },
  {
   "cell_type": "code",
   "execution_count": 453,
   "metadata": {},
   "outputs": [
    {
     "data": {
      "text/plain": [
       "0"
      ]
     },
     "execution_count": 453,
     "metadata": {},
     "output_type": "execute_result"
    }
   ],
   "source": [
    "env.world_state[\"power\"]"
   ]
  },
  {
   "cell_type": "code",
   "execution_count": 184,
   "metadata": {},
   "outputs": [
    {
     "data": {
      "text/plain": [
       "np.float64(3.0)"
      ]
     },
     "execution_count": 184,
     "metadata": {},
     "output_type": "execute_result"
    }
   ],
   "source": [
    "mini_board[env.world_state[\"pillman\"][\"pos\"][0], env.world_state[\"pillman\"][\"pos\"][1]]"
   ]
  },
  {
   "cell_type": "code",
   "execution_count": null,
   "metadata": {},
   "outputs": [],
   "source": [
    "WALLS = 0\n",
    "NOTFOOD = 1\n",
    "FOOD = 2\n",
    "PILLMAN = 3\n",
    "GHOSTONFOOD = 4\n",
    "GHOSTNOTONFOOD = 5\n",
    "GHOSTONFOOD_EDIBLE = 6\n",
    "GHOSTNOTONFOOD_EDIBLE = 7\n",
    "PILLONFOOD = 8\n",
    "PILLNOTONFOOD = 9\n",
    "GHOSTONFOOD_EDIBLE_END = 10\n",
    "GHOSTNOTONFOOD_EDIBLE_END = 11\n",
    "GHOSTONPILLONFOOD_EDIBLE = 12\n",
    "GHOSTONPILLONFOOD_EDIBLE_END = 13\n",
    "GHOSTONPILLNOTONFOOD_EDIBLE = 14\n",
    "GHOSTONPILLNOTONFOOD_EDIBLE_END = 15\n",
    "GHOSTONPILLONFOOD = 16\n",
    "GHOSTONPILLNOTONFOOD = 17"
   ]
  },
  {
   "cell_type": "code",
   "execution_count": 99,
   "metadata": {},
   "outputs": [],
   "source": [
    "env = PillEaterEnv(mode=\"regular\", frame_cap=300, dan_num=0, mini=True, mini_unqtar=False, mini_unqbox=False)\n",
    "state = env.reset()"
   ]
  },
  {
   "cell_type": "code",
   "execution_count": 105,
   "metadata": {},
   "outputs": [
    {
     "data": {
      "image/png": "[encoded data removed]",
      "text/plain": [
       "<Figure size 640x480 with 1 Axes>"
      ]
     },
     "metadata": {},
     "output_type": "display_data"
    }
   ],
   "source": [
    "state, reward, done, _ = env.step(1)\n",
    "if done:\n",
    "    print(\"You lost :(\")\n",
    "    env.reset()\n",
    "fig, axs = plt.subplots()\n",
    "mini_board = np.zeros((15, 15))\n",
    "for i in range(1,env.nplanes+1):\n",
    "    mini_board[state[:,:,i-1] == 1] = i\n",
    "cmap = colors.ListedColormap([\n",
    "    \"black\",\n",
    "    \"white\",\n",
    "    \"silver\",\n",
    "    \"blue\", # pillman\n",
    "    \"darkgreen\",\n",
    "    \"limegreen\",\n",
    "    \"navy\",\n",
    "    \"darkblue\",\n",
    "    \"salmon\",\n",
    "    \"tomato\",\n",
    "    \"yellow\",\n",
    "    \"palegreen\",\n",
    "    \"green\",\n",
    "    \"lime\",\n",
    "    \"teal\",\n",
    "    \"cyan\",\n",
    "    \"steelblue\",\n",
    "    \"lavender\",\n",
    "    \"grey\"\n",
    "][:14])\n",
    "bounds= [i+0.5 for i in range(env.nplanes+1)]\n",
    "norm = colors.BoundaryNorm(bounds, cmap.N)\n",
    "axs.imshow(mini_board, interpolation='nearest', origin='lower', cmap=cmap, norm=norm)\n",
    "axs.set_xticks([])\n",
    "axs.set_yticks([])\n",
    "plt.show()"
   ]
  },
  {
   "cell_type": "code",
   "execution_count": 103,
   "metadata": {},
   "outputs": [
    {
     "data": {
      "text/plain": [
       "array([[1., 1., 1., 1., 1., 1., 1., 1., 1., 1., 1., 1., 1., 1., 1.],\n",
       "       [1., 3., 3., 3., 1., 3., 3., 3., 3., 3., 1., 3., 3., 3., 1.],\n",
       "       [1., 3., 1., 3., 1., 3., 1., 1., 1., 3., 1., 3., 1., 3., 1.],\n",
       "       [1., 3., 3., 3., 3., 3., 3., 3., 3., 3., 3., 3., 3., 3., 1.],\n",
       "       [1., 3., 1., 3., 1., 3., 1., 1., 1., 3., 1., 3., 1., 3., 1.],\n",
       "       [1., 3., 1., 3., 3., 6., 3., 3., 3., 3., 3., 3., 1., 3., 1.],\n",
       "       [1., 3., 1., 1., 1., 1., 3., 1., 3., 1., 1., 1., 1., 3., 1.],\n",
       "       [1., 4., 3., 3., 3., 3., 3., 1., 3., 3., 3., 3., 3., 3., 1.],\n",
       "       [1., 2., 1., 1., 1., 1., 3., 1., 3., 1., 1., 1., 1., 3., 1.],\n",
       "       [1., 2., 1., 3., 3., 3., 3., 5., 3., 3., 3., 3., 1., 3., 1.],\n",
       "       [1., 2., 1., 3., 1., 3., 1., 1., 1., 3., 1., 3., 1., 3., 1.],\n",
       "       [1., 3., 3., 3., 3., 5., 3., 3., 3., 3., 3., 3., 3., 3., 1.],\n",
       "       [1., 3., 1., 3., 1., 3., 1., 1., 1., 3., 1., 3., 1., 3., 1.],\n",
       "       [1., 3., 3., 3., 1., 3., 3., 3., 3., 3., 1., 3., 3., 3., 1.],\n",
       "       [1., 1., 1., 1., 1., 1., 1., 1., 1., 1., 1., 1., 1., 1., 1.]])"
      ]
     },
     "execution_count": 103,
     "metadata": {},
     "output_type": "execute_result"
    }
   ],
   "source": [
    "mini_board"
   ]
  },
  {
   "cell_type": "code",
   "execution_count": 419,
   "metadata": {},
   "outputs": [
    {
     "data": {
      "image/png": "[encoded data removed]",
      "text/plain": [
       "<Figure size 400x400 with 2 Axes>"
      ]
     },
     "metadata": {},
     "output_type": "display_data"
    }
   ],
   "source": [
    "state, reward, p, _ = env.step(1)\n",
    "observation = torch.tensor(state).permute(2,0,1)\n",
    "grid = torch.argmax(observation, dim=0).numpy()\n",
    "cmap = plt.get_cmap('tab20', 12)  \n",
    "plt.figure(figsize=(4,4))\n",
    "plt.imshow(grid, cmap=cmap, origin='upper')\n",
    "cbar = plt.colorbar()\n",
    "cbar.set_label('One-Hot Vector Index')\n",
    "plt.grid(True, which='both', color='black', linestyle='-', linewidth=0.5)\n",
    "plt.xticks(np.arange(15))\n",
    "plt.yticks(np.arange(15))\n",
    "plt.title('Agent\\'s Observation Visualized')\n",
    "plt.show()"
   ]
  },
  {
   "cell_type": "code",
   "execution_count": 117,
   "metadata": {},
   "outputs": [
    {
     "data": {
      "image/png": "[encoded data removed]",
      "text/plain": [
       "<Figure size 600x600 with 2 Axes>"
      ]
     },
     "metadata": {},
     "output_type": "display_data"
    }
   ],
   "source": [
    "\n",
    "# Example: random observation of shape [7, 15, 15]\n",
    "# Replace this with your actual observation tensor\n",
    "observation = torch.tensor(state).permute(2,0,1)\n",
    "\n",
    "# Get the index of the one-hot vector for each cell in the 15x15 grid\n",
    "grid = torch.argmax(observation, dim=0).numpy()\n",
    "\n",
    "# Create a colormap for the 7 different one-hot vector values\n",
    "cmap = plt.get_cmap('tab20', 12)  # You can choose a different colormap if you prefer\n",
    "\n",
    "# Plot the grid\n",
    "plt.figure(figsize=(6, 6))\n",
    "plt.imshow(grid, cmap=cmap, origin='upper')\n",
    "\n",
    "# Add a color bar to indicate which color corresponds to which one-hot index\n",
    "cbar = plt.colorbar()\n",
    "cbar.set_label('One-Hot Vector Index')\n",
    "\n",
    "# Show grid lines for clarity\n",
    "plt.grid(True, which='both', color='black', linestyle='-', linewidth=0.5)\n",
    "plt.xticks(np.arange(15))\n",
    "plt.yticks(np.arange(15))\n",
    "\n",
    "plt.title('Agent\\'s Observation Visualized')\n",
    "plt.show()\n"
   ]
  },
  {
   "cell_type": "code",
   "execution_count": 312,
   "metadata": {},
   "outputs": [
    {
     "data": {
      "text/plain": [
       "array([[0., 0., 0., 0., 0., 0., 0., 0., 0., 0., 0., 0., 0., 0., 0.],\n",
       "       [0., 1., 1., 1., 0., 1., 1., 1., 1., 1., 0., 1., 1., 1., 0.],\n",
       "       [0., 1., 0., 1., 0., 1., 0., 0., 0., 1., 0., 1., 0., 1., 0.],\n",
       "       [0., 1., 1., 1., 1., 1., 1., 1., 1., 1., 1., 1., 1., 1., 0.],\n",
       "       [0., 1., 0., 1., 0., 1., 0., 0., 0., 1., 0., 1., 0., 1., 0.],\n",
       "       [0., 1., 0., 1., 1., 1., 1., 1., 1., 1., 1., 1., 0., 1., 0.],\n",
       "       [0., 1., 0., 0., 0., 0., 1., 0., 1., 0., 0., 0., 0., 1., 0.],\n",
       "       [0., 1., 1., 1., 1., 1., 1., 0., 1., 1., 1., 1., 1., 1., 0.],\n",
       "       [0., 1., 0., 0., 0., 0., 1., 0., 1., 0., 0., 0., 0., 1., 0.],\n",
       "       [0., 1., 0., 1., 1., 1., 1., 1., 1., 1., 1., 1., 0., 1., 0.],\n",
       "       [0., 1., 0., 1., 0., 1., 0., 0., 0., 1., 0., 1., 0., 1., 0.],\n",
       "       [0., 1., 1., 1., 1., 1., 1., 1., 1., 1., 1., 1., 1., 1., 0.],\n",
       "       [0., 1., 0., 1., 0., 1., 0., 0., 0., 1., 0., 1., 0., 1., 0.],\n",
       "       [0., 1., 1., 1., 0., 1., 1., 1., 1., 1., 0., 1., 1., 1., 0.],\n",
       "       [0., 0., 0., 0., 0., 0., 0., 0., 0., 0., 0., 0., 0., 0., 0.]],\n",
       "      dtype=float32)"
      ]
     },
     "execution_count": 312,
     "metadata": {},
     "output_type": "execute_result"
    }
   ],
   "source": [
    "env.world_state['food']"
   ]
  },
  {
   "cell_type": "code",
   "execution_count": 325,
   "metadata": {},
   "outputs": [
    {
     "data": {
      "text/plain": [
       "array([[0, 0, 0, 0, 0, 0, 0, 0, 0, 0, 0, 0, 0, 0, 0],\n",
       "       [0, 0, 0, 0, 0, 0, 0, 0, 0, 0, 0, 0, 0, 0, 0],\n",
       "       [0, 0, 0, 0, 0, 0, 0, 0, 0, 0, 0, 0, 0, 0, 0],\n",
       "       [0, 0, 0, 0, 0, 0, 0, 0, 0, 0, 0, 0, 0, 0, 0],\n",
       "       [0, 0, 0, 0, 0, 0, 0, 0, 0, 0, 0, 0, 0, 0, 0],\n",
       "       [0, 0, 0, 0, 0, 0, 0, 0, 0, 0, 0, 0, 0, 0, 0],\n",
       "       [0, 0, 0, 0, 0, 0, 0, 0, 0, 0, 0, 0, 0, 0, 0],\n",
       "       [0, 0, 0, 0, 0, 0, 0, 0, 0, 0, 0, 0, 0, 0, 0],\n",
       "       [0, 0, 0, 0, 0, 0, 0, 0, 0, 0, 0, 0, 0, 0, 0],\n",
       "       [0, 0, 0, 0, 0, 0, 0, 0, 0, 0, 0, 1, 0, 0, 0],\n",
       "       [0, 0, 0, 0, 0, 0, 0, 0, 0, 0, 0, 0, 0, 0, 0],\n",
       "       [0, 0, 0, 0, 0, 0, 0, 0, 0, 0, 0, 0, 0, 0, 0],\n",
       "       [0, 0, 0, 0, 0, 0, 0, 0, 0, 0, 0, 0, 0, 0, 0],\n",
       "       [0, 0, 0, 0, 0, 0, 0, 0, 0, 0, 0, 0, 0, 0, 0],\n",
       "       [0, 0, 0, 0, 0, 0, 0, 0, 0, 0, 0, 0, 0, 0, 0]], dtype=uint8)"
      ]
     },
     "execution_count": 325,
     "metadata": {},
     "output_type": "execute_result"
    }
   ],
   "source": [
    "a = env.image\n",
    "a.fill(0)\n",
    "a[:, :, PillEater.WALLS] = env.world_state['food']\n",
    "a[env.world_state['pillman']['pos'][0], env.world_state['pillman']['pos'][1], PillEater.PILLMAN] = 1\n",
    "a[:,:,3]"
   ]
  },
  {
   "cell_type": "code",
   "execution_count": 324,
   "metadata": {},
   "outputs": [
    {
     "data": {
      "text/plain": [
       "3"
      ]
     },
     "execution_count": 324,
     "metadata": {},
     "output_type": "execute_result"
    }
   ],
   "source": [
    "PillEater.PILLMAN"
   ]
  },
  {
   "cell_type": "markdown",
   "metadata": {},
   "source": []
  },
  {
   "cell_type": "code",
   "execution_count": 316,
   "metadata": {},
   "outputs": [
    {
     "data": {
      "text/plain": [
       "(np.int32(9), np.int32(11))"
      ]
     },
     "execution_count": 316,
     "metadata": {},
     "output_type": "execute_result"
    }
   ],
   "source": [
    "env.world_state['pillman']['pos'][0], env.world_state['pillman']['pos'][1]"
   ]
  },
  {
   "cell_type": "code",
   "execution_count": 319,
   "metadata": {},
   "outputs": [
    {
     "data": {
      "text/plain": [
       "array([[0, 0, 0, 0, 0, 0, 0, 0, 0, 0, 0, 0, 0, 0, 0],\n",
       "       [0, 0, 0, 0, 0, 0, 0, 0, 0, 0, 0, 0, 0, 0, 0],\n",
       "       [0, 0, 0, 0, 0, 0, 0, 0, 0, 0, 0, 0, 0, 0, 0],\n",
       "       [0, 0, 0, 0, 0, 0, 0, 0, 0, 0, 0, 0, 0, 0, 0],\n",
       "       [0, 0, 0, 0, 0, 0, 0, 0, 0, 0, 0, 0, 0, 0, 0],\n",
       "       [0, 0, 0, 0, 0, 0, 0, 0, 0, 0, 0, 0, 0, 0, 0],\n",
       "       [0, 0, 0, 0, 0, 0, 0, 0, 0, 0, 0, 0, 0, 0, 0],\n",
       "       [0, 0, 0, 0, 0, 0, 0, 0, 0, 0, 0, 0, 0, 0, 0],\n",
       "       [0, 0, 0, 0, 0, 0, 0, 0, 0, 0, 0, 0, 0, 0, 0],\n",
       "       [0, 0, 0, 0, 0, 0, 0, 0, 0, 0, 0, 1, 0, 0, 0],\n",
       "       [0, 0, 0, 0, 0, 0, 0, 0, 0, 0, 0, 0, 0, 0, 0],\n",
       "       [0, 0, 0, 0, 0, 0, 0, 0, 0, 0, 0, 0, 0, 0, 0],\n",
       "       [0, 0, 0, 0, 0, 0, 0, 0, 0, 0, 0, 0, 0, 0, 0],\n",
       "       [0, 0, 0, 0, 0, 0, 0, 0, 0, 0, 0, 0, 0, 0, 0],\n",
       "       [0, 0, 0, 0, 0, 0, 0, 0, 0, 0, 0, 0, 0, 0, 0]], dtype=uint8)"
      ]
     },
     "execution_count": 319,
     "metadata": {},
     "output_type": "execute_result"
    }
   ],
   "source": [
    "a[:, :, PillEater.PILLMAN] "
   ]
  },
  {
   "cell_type": "code",
   "execution_count": 308,
   "metadata": {},
   "outputs": [
    {
     "data": {
      "text/plain": [
       "array([[0., 0., 0., 0., 0., 0., 0., 0., 0., 0., 0., 0., 0., 0., 0.],\n",
       "       [0., 1., 1., 1., 0., 1., 1., 1., 1., 1., 0., 1., 1., 1., 0.],\n",
       "       [0., 1., 0., 1., 0., 1., 0., 0., 0., 1., 0., 1., 0., 1., 0.],\n",
       "       [0., 1., 1., 1., 1., 1., 1., 1., 1., 1., 1., 1., 1., 1., 0.],\n",
       "       [0., 1., 0., 1., 0., 1., 0., 0., 0., 1., 0., 1., 0., 1., 0.],\n",
       "       [0., 1., 0., 1., 1., 1., 1., 1., 1., 1., 1., 1., 0., 1., 0.],\n",
       "       [0., 1., 0., 0., 0., 0., 1., 0., 1., 0., 0., 0., 0., 1., 0.],\n",
       "       [0., 1., 1., 1., 1., 1., 1., 0., 1., 1., 1., 1., 1., 1., 0.],\n",
       "       [0., 1., 0., 0., 0., 0., 1., 0., 1., 0., 0., 0., 0., 1., 0.],\n",
       "       [0., 1., 0., 1., 1., 1., 1., 1., 1., 1., 1., 1., 0., 1., 0.],\n",
       "       [0., 1., 0., 1., 0., 1., 0., 0., 0., 1., 0., 1., 0., 1., 0.],\n",
       "       [0., 1., 1., 1., 1., 1., 1., 1., 1., 1., 1., 1., 1., 1., 0.],\n",
       "       [0., 1., 0., 1., 0., 1., 0., 0., 0., 1., 0., 1., 0., 1., 0.],\n",
       "       [0., 1., 1., 1., 0., 1., 1., 1., 1., 1., 0., 1., 1., 1., 0.],\n",
       "       [0., 0., 0., 0., 0., 0., 0., 0., 0., 0., 0., 0., 0., 0., 0.]],\n",
       "      dtype=float32)"
      ]
     },
     "execution_count": 308,
     "metadata": {},
     "output_type": "execute_result"
    }
   ],
   "source": [
    "env.world_state['food']"
   ]
  },
  {
   "cell_type": "code",
   "execution_count": null,
   "metadata": {},
   "outputs": [],
   "source": [
    "        self.image.fill(0)\n",
    "        self.image[:, :, PillEater.WALLS] = self.walls\n",
    "        self.image[:, :, PillEater.FOOD] = self.world_state['food']\n",
    "        self.image[:, :, PillEater.NOTFOOD] = self.world_state['notfood']\n",
    "        self.image[self.world_state['pillman']['pos'][0], self.world_state['pillman']['pos'][1],\n",
    "                PillEater.PILLMAN] = 1\n",
    "        for ghost in self.world_state['ghosts']:\n",
    "            edibility = self.world_state['power'] / float(self.pill_duration)\n",
    "            #print(\"edibility:\", edibility)\n",
    "            if edibility > 0.2:\n",
    "                self.image[ghost['pos'][0], ghost['pos'][1], PillEater.GHOSTS_EDIBLE] = 1 #edibility\n",
    "            elif edibility > 0.2:\n",
    "                self.image[ghost['pos'][0], ghost['pos'][1], PillEater.GHOSTS_EDIBLE_END] = 1 #edibility\n",
    "            else:\n",
    "                self.image[ghost['pos'][0], ghost['pos'][1], PillEater.GHOSTS] = 1 #1. - edibility\n",
    "        for pill in self.world_state['pills']:\n",
    "            self.image[pill['pos'][0], pill['pos'][1], PillEater.PILL] = 1"
   ]
  }
 ],
 "metadata": {
  "kernelspec": {
   "display_name": "venv",
   "language": "python",
   "name": "python3"
  },
  "language_info": {
   "codemirror_mode": {
    "name": "ipython",
    "version": 3
   },
   "file_extension": ".py",
   "mimetype": "text/x-python",
   "name": "python",
   "nbconvert_exporter": "python",
   "pygments_lexer": "ipython3",
   "version": "3.11.7"
  }
 },
 "nbformat": 4,
 "nbformat_minor": 2
}
